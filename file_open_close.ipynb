{
 "cells": [
  {
   "cell_type": "markdown",
   "metadata": {},
   "source": [
    "# 파일 입출력  \n",
    "\n",
    "## 상대 경로  ./(현재경로)  ../(부모(상위)경로)\n",
    "\n",
    "## 절대 경로 c:/..../.."
   ]
  },
  {
   "cell_type": "code",
   "execution_count": 15,
   "metadata": {},
   "outputs": [],
   "source": [
    "f= open('./data/sample.txt', 'w',encoding = 'utf8')"
   ]
  },
  {
   "cell_type": "code",
   "execution_count": 17,
   "metadata": {},
   "outputs": [
    {
     "name": "stdout",
     "output_type": "stream",
     "text": [
      "쓴 글의 글자수는 12\n",
      "쓴 글의 글자수는 12\n",
      "쓴 글의 글자수는 12\n",
      "쓴 글의 글자수는 12\n",
      "쓴 글의 글자수는 12\n",
      "쓴 글의 글자수는 12\n",
      "쓴 글의 글자수는 12\n",
      "쓴 글의 글자수는 12\n",
      "쓴 글의 글자수는 12\n",
      "쓴 글의 글자수는 13\n"
     ]
    }
   ],
   "source": [
    "for i in range(1, 11):\n",
    "    data =\"%d번째 내용 입니다.\\n\"%i\n",
    "    result = f.write(data)\n",
    "    print('쓴 글의 글자수는 {0}'.format(result))\n",
    "f.close()"
   ]
  },
  {
   "cell_type": "code",
   "execution_count": 21,
   "metadata": {},
   "outputs": [],
   "source": [
    "#데이터 쓰기 'w'\n",
    "f1= open('./data/sample.txt', 'w', encoding = 'utf8')\n",
    "f1.write(\"hello python\\n\")\n",
    "f1.write('hong gil dong\\n')\n",
    "f1.close()"
   ]
  },
  {
   "cell_type": "code",
   "execution_count": 22,
   "metadata": {},
   "outputs": [
    {
     "name": "stdout",
     "output_type": "stream",
     "text": [
      "내용 쓰기 완료\n"
     ]
    }
   ],
   "source": [
    "#데이터 추가  'a'\n",
    "f1= open('./data/sample.txt', 'a', encoding = 'utf8')\n",
    "f1.write('내용을 추가합니다.')\n",
    "\n",
    "print('내용 쓰기 완료')\n",
    "f1.close()"
   ]
  },
  {
   "cell_type": "code",
   "execution_count": 35,
   "metadata": {},
   "outputs": [
    {
     "name": "stdout",
     "output_type": "stream",
     "text": [
      "<class 'list'>\n",
      "hello python\n",
      "\n",
      "hong gil dong\n",
      "\n",
      "내용을 추가합니다.\n"
     ]
    }
   ],
   "source": [
    "#데이터 읽기 #readline #readlines\n",
    "f1= open('./data/sample.txt', 'r', encoding = 'utf8')\n",
    "datas= f1.readlines() #readlinces :여러줄을 읽어옴 \n",
    "print(type(datas)) # 리스트 타입으로 받음 \n",
    "for data in datas:\n",
    "    print(data)    \n",
    "f1.close()"
   ]
  },
  {
   "cell_type": "code",
   "execution_count": 36,
   "metadata": {},
   "outputs": [
    {
     "name": "stdout",
     "output_type": "stream",
     "text": [
      "hello python\n",
      "\n",
      "hong gil dong\n",
      "\n",
      "내용을 추가합니다.\n"
     ]
    }
   ],
   "source": [
    "f1 = open('./data/sample.txt', 'r' , encoding = 'utf8')\n",
    "while True:\n",
    "    line = f1.readline() #readline :  한줄씩 읽어옴\n",
    "    if not line:\n",
    "        break\n",
    "    print(line)\n",
    "\n",
    "f1.close()"
   ]
  },
  {
   "cell_type": "code",
   "execution_count": 41,
   "metadata": {},
   "outputs": [
    {
     "name": "stdout",
     "output_type": "stream",
     "text": [
      "hello python\n",
      "\n",
      "hong gil dong\n",
      "\n",
      "내용을 추가합니다.\n",
      "전체 줄수 : 3\n"
     ]
    }
   ],
   "source": [
    "#with open .. as   : 따로 클로즈를 안해줘도 됨\n",
    "line_count =0\n",
    "with open('./data/sample.txt', 'r', encoding = 'utf8') as input_file: \n",
    "    for line in input_file:\n",
    "        print(line)\n",
    "        line_count += 1\n",
    "print('전체 줄수 : {0}'.format(line_count))"
   ]
  },
  {
   "cell_type": "code",
   "execution_count": 44,
   "metadata": {},
   "outputs": [
    {
     "name": "stdout",
     "output_type": "stream",
     "text": [
      "데이터 추가 완료\n"
     ]
    }
   ],
   "source": [
    "with open('./data/sample.txt', 'a', encoding = 'utf8') as w:\n",
    "    w.write('\\n내용을 한번 더 추가합니다.')\n",
    "    print('데이터 추가 완료')"
   ]
  },
  {
   "cell_type": "code",
   "execution_count": null,
   "metadata": {},
   "outputs": [],
   "source": []
  }
 ],
 "metadata": {
  "kernelspec": {
   "display_name": "Python 3",
   "language": "python",
   "name": "python3"
  },
  "language_info": {
   "codemirror_mode": {
    "name": "ipython",
    "version": 3
   },
   "file_extension": ".py",
   "mimetype": "text/x-python",
   "name": "python",
   "nbconvert_exporter": "python",
   "pygments_lexer": "ipython3",
   "version": "3.8.5"
  }
 },
 "nbformat": 4,
 "nbformat_minor": 4
}
