{
 "cells": [
  {
   "cell_type": "code",
   "execution_count": 4,
   "metadata": {},
   "outputs": [
    {
     "data": {
      "text/plain": [
       "22"
      ]
     },
     "execution_count": 4,
     "metadata": {},
     "output_type": "execute_result"
    }
   ],
   "source": [
    "g = (lambda x:x+2)\n",
    "\n",
    "g(20)"
   ]
  },
  {
   "cell_type": "code",
   "execution_count": 5,
   "metadata": {},
   "outputs": [
    {
     "data": {
      "text/plain": [
       "9"
      ]
     },
     "execution_count": 5,
     "metadata": {},
     "output_type": "execute_result"
    }
   ],
   "source": [
    "doublesu = lambda x:x**2\n",
    "doublesu(3)"
   ]
  },
  {
   "cell_type": "code",
   "execution_count": 6,
   "metadata": {},
   "outputs": [
    {
     "data": {
      "text/plain": [
       "20"
      ]
     },
     "execution_count": 6,
     "metadata": {},
     "output_type": "execute_result"
    }
   ],
   "source": [
    "maxsu= (lambda x,y:x if x>y else y)\n",
    "maxsu(10,20)"
   ]
  },
  {
   "cell_type": "code",
   "execution_count": 7,
   "metadata": {},
   "outputs": [
    {
     "data": {
      "text/plain": [
       "40"
      ]
     },
     "execution_count": 7,
     "metadata": {},
     "output_type": "execute_result"
    }
   ],
   "source": [
    "maxsu(40,20)"
   ]
  },
  {
   "cell_type": "code",
   "execution_count": 13,
   "metadata": {},
   "outputs": [
    {
     "name": "stdout",
     "output_type": "stream",
     "text": [
      "10\n",
      "10\n"
     ]
    }
   ],
   "source": [
    "#Q1) userabs(-10) = > 10 \n",
    "#    userabs(10) => 10\n",
    "#    lambda 표현식으로\n",
    "userabs= lambda x:abs(x)\n",
    "print(userabs(-10))\n",
    "print(userabs(10))"
   ]
  },
  {
   "cell_type": "code",
   "execution_count": 22,
   "metadata": {},
   "outputs": [
    {
     "name": "stdout",
     "output_type": "stream",
     "text": [
      "50.24\n"
     ]
    }
   ],
   "source": [
    "#Q2) area 만들어서 원의 넓이 , area(반지름) -> 반지름 * 반지름 * PI\n",
    "pi = 3.14\n",
    "area = lambda x:x**2*pi\n",
    "print(area(4))"
   ]
  },
  {
   "cell_type": "code",
   "execution_count": 28,
   "metadata": {},
   "outputs": [],
   "source": [
    "# data[100,20,40,50,50,20,70]\n",
    "\n",
    "# lambda for index in data 1 if index >= 60 else 0\n"
   ]
  },
  {
   "cell_type": "code",
   "execution_count": 76,
   "metadata": {},
   "outputs": [
    {
     "name": "stdout",
     "output_type": "stream",
     "text": [
      "20\n",
      "32\n",
      "23\n",
      "30\n"
     ]
    }
   ],
   "source": [
    "def fn(x):\n",
    "    return x+10\n",
    "\n",
    "lst ={'name':['hong','kim','lee','park'], 'age':[10,22,13,20]}\n",
    "\n",
    "result = map(fn, lst['age'])\n",
    "\n",
    "for index in result:\n",
    "    print(index)"
   ]
  },
  {
   "cell_type": "code",
   "execution_count": 77,
   "metadata": {},
   "outputs": [
    {
     "name": "stdout",
     "output_type": "stream",
     "text": [
      "20, 32, 23, 30, "
     ]
    }
   ],
   "source": [
    "result2 = map(lambda x:x+10, lst['age'])\n",
    "for index in result2:\n",
    "    print(index, end=\", \")"
   ]
  },
  {
   "cell_type": "code",
   "execution_count": 69,
   "metadata": {},
   "outputs": [
    {
     "name": "stdout",
     "output_type": "stream",
     "text": [
      "(50, 'fail')(40, 'fail')(100, 'pass')(20, 'fail')(70, 'pass')(90, 'pass')(30, 'fail')"
     ]
    }
   ],
   "source": [
    "jumsu = [50,40,100,20,70,90,30]\n",
    "result3 = map(lambda x:'pass' if x>=60 else 'fail', jumsu)\n",
    "#for index in result3:\n",
    "    #print(index, end=' ')\n",
    "for item in zip(jumsu,result3):\n",
    "    print(item, end = '')"
   ]
  },
  {
   "cell_type": "code",
   "execution_count": 73,
   "metadata": {},
   "outputs": [],
   "source": [
    "# filter\n",
    "jumsu = [50,40,100,20,70,90,30]\n",
    "result2= filter(lambda x: x>=60, jumsu)"
   ]
  },
  {
   "cell_type": "code",
   "execution_count": 74,
   "metadata": {},
   "outputs": [
    {
     "name": "stdout",
     "output_type": "stream",
     "text": [
      "100\n",
      "70\n",
      "90\n"
     ]
    }
   ],
   "source": [
    "for index in result2:\n",
    "    print(index)"
   ]
  },
  {
   "cell_type": "code",
   "execution_count": 3,
   "metadata": {},
   "outputs": [
    {
     "name": "stdout",
     "output_type": "stream",
     "text": [
      "<class 'list'>\n"
     ]
    }
   ],
   "source": [
    "#iterator\n",
    "lst = [10,20,30,40]\n",
    "print(type(lst))"
   ]
  },
  {
   "cell_type": "code",
   "execution_count": 4,
   "metadata": {},
   "outputs": [
    {
     "data": {
      "text/plain": [
       "list_iterator"
      ]
     },
     "execution_count": 4,
     "metadata": {},
     "output_type": "execute_result"
    }
   ],
   "source": [
    "type(iter(lst))"
   ]
  },
  {
   "cell_type": "code",
   "execution_count": 5,
   "metadata": {},
   "outputs": [
    {
     "data": {
      "text/plain": [
       "list_iterator"
      ]
     },
     "execution_count": 5,
     "metadata": {},
     "output_type": "execute_result"
    }
   ],
   "source": [
    "data = iter(lst)\n",
    "type(data)"
   ]
  },
  {
   "cell_type": "code",
   "execution_count": 6,
   "metadata": {},
   "outputs": [
    {
     "name": "stdout",
     "output_type": "stream",
     "text": [
      "10\n",
      "20\n",
      "30\n",
      "40\n"
     ]
    }
   ],
   "source": [
    "while True:\n",
    "    try:\n",
    "        print(next(data))\n",
    "    except:\n",
    "        break"
   ]
  },
  {
   "cell_type": "code",
   "execution_count": 19,
   "metadata": {},
   "outputs": [
    {
     "name": "stdout",
     "output_type": "stream",
     "text": [
      "A\n",
      "A\n"
     ]
    }
   ],
   "source": [
    "data = 'a'\n",
    "print(chr(ord(data)-32))\n",
    "\n",
    "data =65\n",
    "print(chr(data))"
   ]
  },
  {
   "cell_type": "code",
   "execution_count": 20,
   "metadata": {},
   "outputs": [],
   "source": [
    "#gernerator #y다른 함수와의 차이 : yield -> for문가능\n",
    "def upperReverse(data):\n",
    "    for index in range(len(data)-1, -1, -1):\n",
    "        if ord(data[index])>=97 and ord(data[index])<=122: #ord :숫자로바꿈\n",
    "            yield chr(ord(data[index])-32) #문자형으로 \n",
    "        else:\n",
    "            yield data[index]"
   ]
  },
  {
   "cell_type": "code",
   "execution_count": 21,
   "metadata": {
    "scrolled": true
   },
   "outputs": [
    {
     "name": "stdout",
     "output_type": "stream",
     "text": [
      "DCBA"
     ]
    }
   ],
   "source": [
    "for index in upperReverse('ABCD'):\n",
    "    print(index, end='')"
   ]
  },
  {
   "cell_type": "code",
   "execution_count": 22,
   "metadata": {},
   "outputs": [
    {
     "name": "stdout",
     "output_type": "stream",
     "text": [
      "C\n",
      "B\n",
      "A\n"
     ]
    }
   ],
   "source": [
    "g=upperReverse(\"abc\")\n",
    "while True:\n",
    "    try:\n",
    "        print(next(g))\n",
    "    except:\n",
    "        break"
   ]
  },
  {
   "cell_type": "code",
   "execution_count": 29,
   "metadata": {},
   "outputs": [
    {
     "name": "stdout",
     "output_type": "stream",
     "text": [
      "hello★hong★kim★park "
     ]
    }
   ],
   "source": [
    "#print\n",
    "print('hello', 'hong', 'kim', 'park', sep='★', end = ' ')"
   ]
  },
  {
   "cell_type": "code",
   "execution_count": 32,
   "metadata": {},
   "outputs": [
    {
     "name": "stdout",
     "output_type": "stream",
     "text": [
      "bb, aa, cc\n",
      "hong 20\n"
     ]
    }
   ],
   "source": [
    " #format\n",
    "print(\"{1}, {0}, {2}\".format(\"aa\",\"bb\",\"cc\"))\n",
    "print(\"{name} {age}\".format(name=\"hong\",age=20))"
   ]
  },
  {
   "cell_type": "code",
   "execution_count": 34,
   "metadata": {},
   "outputs": [
    {
     "name": "stdout",
     "output_type": "stream",
     "text": [
      "code:p1, price:2000, name:볼펜\n"
     ]
    }
   ],
   "source": [
    "product={\"code\":\"p1\",\"price\":2000,\"name\":\"볼펜\"}\n",
    "print(\"code:{0[code]}, price:{0[price]}, name:{0[name]}\".format(product))"
   ]
  },
  {
   "cell_type": "code",
   "execution_count": 36,
   "metadata": {},
   "outputs": [
    {
     "name": "stdout",
     "output_type": "stream",
     "text": [
      "code:p1, price:2000,name:볼펜\n"
     ]
    }
   ],
   "source": [
    "product={\"code\":\"p1\",\"price\":2000,\"name\":\"볼펜\"}\n",
    "print(\"code:{product[code]}, price:{product[price]},\\\n",
    "name:{product[name]}\".format(product=product))"
   ]
  },
  {
   "cell_type": "code",
   "execution_count": 37,
   "metadata": {},
   "outputs": [
    {
     "name": "stdout",
     "output_type": "stream",
     "text": [
      "code:p1 price:2000 name:볼펜\n"
     ]
    }
   ],
   "source": [
    "product={\"code\":\"p1\",\"price\":2000,\"name\":\"볼펜\"}\n",
    "print(\"code:{code} price:{price} name:{name}\".format(**product))"
   ]
  },
  {
   "cell_type": "code",
   "execution_count": 41,
   "metadata": {},
   "outputs": [
    {
     "name": "stdout",
     "output_type": "stream",
     "text": [
      "id: a1, name:사탕\n"
     ]
    }
   ],
   "source": [
    "print(\"id: {product_id}, name:{product_name}\"\\\n",
    "      .format(product_id='a1',product_name='사탕'))"
   ]
  },
  {
   "cell_type": "code",
   "execution_count": null,
   "metadata": {},
   "outputs": [],
   "source": []
  }
 ],
 "metadata": {
  "kernelspec": {
   "display_name": "Python 3",
   "language": "python",
   "name": "python3"
  },
  "language_info": {
   "codemirror_mode": {
    "name": "ipython",
    "version": 3
   },
   "file_extension": ".py",
   "mimetype": "text/x-python",
   "name": "python",
   "nbconvert_exporter": "python",
   "pygments_lexer": "ipython3",
   "version": "3.8.5"
  }
 },
 "nbformat": 4,
 "nbformat_minor": 4
}
