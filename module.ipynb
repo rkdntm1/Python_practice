{
 "cells": [
  {
   "cell_type": "code",
   "execution_count": 11,
   "metadata": {},
   "outputs": [],
   "source": [
    "import pandas as pd #pandas. 메서드로 사용 #as 별칭으로 줄이기가능\n",
    "\n",
    "d1 = pd.DataFrame([['a1',10],['a2',20]], columns ={'name','age'})"
   ]
  },
  {
   "cell_type": "code",
   "execution_count": 12,
   "metadata": {},
   "outputs": [
    {
     "name": "stdout",
     "output_type": "stream",
     "text": [
      "  name  age\n",
      "0   a1   10\n",
      "1   a2   20\n"
     ]
    }
   ],
   "source": [
    "print(d1)"
   ]
  },
  {
   "cell_type": "code",
   "execution_count": 17,
   "metadata": {},
   "outputs": [
    {
     "name": "stdout",
     "output_type": "stream",
     "text": [
      "    age  irum\n",
      "0  hong    20\n",
      "1  park    10\n",
      "2   kia    15\n"
     ]
    }
   ],
   "source": [
    "from pandas import DataFrame\n",
    "d2 = DataFrame([['hong', 20],['park',10],['kia',15]],columns={'irum','age'})\n",
    "print(d2)"
   ]
  },
  {
   "cell_type": "markdown",
   "metadata": {},
   "source": [
    "# 리스트 내장  \n",
    "## [표현식 for 아이템 in 시퀀스 객체 (if 조건식)]"
   ]
  },
  {
   "cell_type": "code",
   "execution_count": 31,
   "metadata": {},
   "outputs": [],
   "source": [
    "arr=[ index +10 for index in range(1,10)]"
   ]
  },
  {
   "cell_type": "code",
   "execution_count": 32,
   "metadata": {},
   "outputs": [
    {
     "name": "stdout",
     "output_type": "stream",
     "text": [
      "[11, 12, 13, 14, 15, 16, 17, 18, 19]\n"
     ]
    }
   ],
   "source": [
    "print(arr)"
   ]
  },
  {
   "cell_type": "code",
   "execution_count": 33,
   "metadata": {},
   "outputs": [
    {
     "name": "stdout",
     "output_type": "stream",
     "text": [
      "[16, 17, 18, 19]\n"
     ]
    }
   ],
   "source": [
    "arr1 = [i for i in arr if i>15]\n",
    "print(arr1)"
   ]
  },
  {
   "cell_type": "code",
   "execution_count": 34,
   "metadata": {},
   "outputs": [
    {
     "name": "stdout",
     "output_type": "stream",
     "text": [
      "[0, 2, 4, 6, 8]\n"
     ]
    }
   ],
   "source": [
    "data =[ index for index in range(10) if index%2 ==0]\n",
    "print(data)"
   ]
  },
  {
   "cell_type": "code",
   "execution_count": 3,
   "metadata": {},
   "outputs": [],
   "source": [
    "d1 = ['hong', 'kia', 'lee', 'park']\n",
    "data2 = [ index for index in d1 if len(index)>=2]"
   ]
  },
  {
   "cell_type": "code",
   "execution_count": 4,
   "metadata": {},
   "outputs": [
    {
     "name": "stdout",
     "output_type": "stream",
     "text": [
      "['hong', 'kia', 'lee', 'park']\n"
     ]
    }
   ],
   "source": [
    "print(data2)"
   ]
  },
  {
   "cell_type": "code",
   "execution_count": 81,
   "metadata": {},
   "outputs": [
    {
     "name": "stdout",
     "output_type": "stream",
     "text": [
      "['park', 'kang']\n"
     ]
    }
   ],
   "source": [
    "d2 = [\n",
    "    {'name':'hong','age':10}\n",
    "    ,{'name':'park','age':20}\n",
    "    ,{'name':'kang','age':29}\n",
    "    ,{'name':'hong','age':5}\n",
    "    ,{'name':'jang','age':51}\n",
    "]\n",
    "\n",
    "result = [index['name'] for index in d2 if (index['age']//10) == 2]\n",
    "print(result )"
   ]
  },
  {
   "cell_type": "code",
   "execution_count": 14,
   "metadata": {},
   "outputs": [
    {
     "name": "stdout",
     "output_type": "stream",
     "text": [
      "['hong', 'Hong2', 'HONG3']\n"
     ]
    }
   ],
   "source": [
    "data = ['hong', 'Kim1','Lee1','Hong2','park1','Park2','Kang1','kang2','HONG3']\n",
    "\n",
    "#Q1)첫글자가 h로 시작하는 자료를 list에 넣어 출력하시오\n",
    "\n",
    "#print(data.index('hong',0,2))\n",
    "# dic = []\n",
    "# for index in data:\n",
    "#     for i in index:\n",
    "#         if i in (i):\n",
    "#             dic.append(index)\n",
    "# print(dic)\n",
    "\n",
    "# ========================================\n",
    "#몰랐던 부분 Str의 item[0] 이라는 것을 활용하지 못함. upper 라는 메소드를 이용 못함\n",
    "result =[item for item in data if item[0].upper()=='H']\n",
    "print(result)"
   ]
  },
  {
   "cell_type": "code",
   "execution_count": 16,
   "metadata": {},
   "outputs": [
    {
     "name": "stdout",
     "output_type": "stream",
     "text": [
      "[{'name': 'hong1', 'age': 20}, {'name': 'park2', 'age': 23}, {'name': 'kim2', 'age': 22}]\n"
     ]
    }
   ],
   "source": [
    "#Q2)0~25 살 자료를 출력\n",
    "data2 =[\n",
    "    {'name':'hong1','age':20}\n",
    "    ,{'name':'ha2','age':30}\n",
    "    ,{'name':'Park1','age':29}\n",
    "    ,{'name':'Hong2','age':5}\n",
    "    ,{'name':'park2','age':23}\n",
    "    ,{'name':'kim2','age':22}\n",
    "    ,{'name':'kang2','age':51}\n",
    "]\n",
    "\n",
    "result2=[index for index in data2 if index['age']>=10 and index['age']<=25]\n",
    "print(result2)"
   ]
  },
  {
   "cell_type": "code",
   "execution_count": null,
   "metadata": {},
   "outputs": [],
   "source": []
  }
 ],
 "metadata": {
  "kernelspec": {
   "display_name": "Python 3",
   "language": "python",
   "name": "python3"
  },
  "language_info": {
   "codemirror_mode": {
    "name": "ipython",
    "version": 3
   },
   "file_extension": ".py",
   "mimetype": "text/x-python",
   "name": "python",
   "nbconvert_exporter": "python",
   "pygments_lexer": "ipython3",
   "version": "3.8.5"
  }
 },
 "nbformat": 4,
 "nbformat_minor": 4
}
