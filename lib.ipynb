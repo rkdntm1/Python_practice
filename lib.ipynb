{
 "cells": [
  {
   "cell_type": "markdown",
   "metadata": {},
   "source": [
    "# 표준 라이브러리\n"
   ]
  },
  {
   "cell_type": "code",
   "execution_count": 5,
   "metadata": {},
   "outputs": [
    {
     "name": "stdout",
     "output_type": "stream",
     "text": [
      "2020-12-01\n",
      "2020-12-01 10:07:40.506654\n",
      "2020 07 12/01/20\n"
     ]
    }
   ],
   "source": [
    "#datetime\n",
    "import datetime\n",
    "\n",
    "print(datetime.date.today())\n",
    "print(datetime.datetime.now())\n",
    "\n",
    "d1 = datetime.datetime.now()\n",
    "now = d1.strftime('%Y %M %D')\n",
    "print(now)"
   ]
  },
  {
   "cell_type": "code",
   "execution_count": 8,
   "metadata": {},
   "outputs": [
    {
     "name": "stdout",
     "output_type": "stream",
     "text": [
      "Counter({'배': 2, '복숭아': 2, '포도': 2, '사과': 1, '딸기': 1})\n"
     ]
    }
   ],
   "source": [
    "#counter\n",
    "\n",
    "from collections import Counter\n",
    "\n",
    "data = '사과 배 복숭아 딸기 포도 배 복숭아 포도'\n",
    "d = data.split()\n",
    "#print(d) -> 스플릿으로 리스트형태로 \n",
    "wordcount= Counter() #카운터 호출\n",
    "\n",
    "for index in d:\n",
    "    wordcount[index] +=1 #-> 딕셔너리 형태로 추가하는걸 알 수 있음\n",
    "print(wordcount)\n"
   ]
  },
  {
   "cell_type": "code",
   "execution_count": 18,
   "metadata": {},
   "outputs": [
    {
     "name": "stdout",
     "output_type": "stream",
     "text": [
      "defaultdict(<class 'list'>, {'yellow': [5, 3], 'blue': [2, 4], 'red': [1]})\n"
     ]
    }
   ],
   "source": [
    "#Defaultdict\n",
    "from collections import defaultdict\n",
    "\n",
    "s = [('yellow', 5), ('blue', 2), ('yellow', 3), ('blue', 4), ('red', 1)]\n",
    "dict1  = defaultdict(list)\n",
    "\n",
    "for key, value in s:\n",
    "    dict1[key].append(value)   \n",
    "sdict1 = sorted(dict1.items()) #알파벳 순 정리 \n",
    "print(dict1)\n"
   ]
  },
  {
   "cell_type": "code",
   "execution_count": 19,
   "metadata": {},
   "outputs": [
    {
     "name": "stdout",
     "output_type": "stream",
     "text": [
      "[('blue', [2, 4]), ('red', [1]), ('yellow', [5, 3])]\n"
     ]
    }
   ],
   "source": [
    "print(sdict1)"
   ]
  },
  {
   "cell_type": "code",
   "execution_count": null,
   "metadata": {},
   "outputs": [],
   "source": [
    "#과제) 10대 20대 30대 ... 를 defaultdict 로 만들어보기"
   ]
  }
 ],
 "metadata": {
  "kernelspec": {
   "display_name": "Python 3",
   "language": "python",
   "name": "python3"
  },
  "language_info": {
   "codemirror_mode": {
    "name": "ipython",
    "version": 3
   },
   "file_extension": ".py",
   "mimetype": "text/x-python",
   "name": "python",
   "nbconvert_exporter": "python",
   "pygments_lexer": "ipython3",
   "version": "3.8.5"
  }
 },
 "nbformat": 4,
 "nbformat_minor": 4
}
