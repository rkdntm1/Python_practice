{
 "cells": [
  {
   "cell_type": "markdown",
   "metadata": {},
   "source": [
    "# 큰제목\n",
    "## 중제목\n",
    "### 소제목\n",
    "#### 목록\n",
    "안녕하세요 만나서 반갑습니다\n",
    "여기는 python 수업입니다.  \n",
    "첫날입니다.\n",
    "\n",
    "<img src=\"‪./img/cat.jpg\" width = \"300px\" height = \"300px\" align = \"left\">\n"
   ]
  },
  {
   "cell_type": "markdown",
   "metadata": {},
   "source": [
    "a = 10\n",
    "b = 20\n",
    "print(a+b)"
   ]
  },
  {
   "cell_type": "markdown",
   "metadata": {},
   "source": [
    "#문자열 연결\n",
    "\"\"\n",
    "여러줄 문자 주석\n",
    "\"\"\"\n",
    "a = 'hong gil dong'\n",
    "b = 'kim hana'\n",
    "a+b"
   ]
  },
  {
   "cell_type": "code",
   "execution_count": null,
   "metadata": {},
   "outputs": [],
   "source": [
    "\"\"\"\n",
    "여러줄 주석\n",
    "여러줄 주석\n",
    "여러줄 주석\n",
    "\"\"\"\n",
    "test\n",
    "a = 10\n",
    "b = 20"
   ]
  },
  {
   "cell_type": "markdown",
   "metadata": {},
   "source": [
    "#### 안녕하세요 문자열 연습입니다."
   ]
  },
  {
   "cell_type": "code",
   "execution_count": null,
   "metadata": {},
   "outputs": [],
   "source": [
    "a = 10\n",
    "b = 10.2\n",
    "c = 'aba'\n",
    "d = complex(2,6)\n",
    "print(type(a))\n",
    "print(type(b))\n",
    "print(type(c))\n",
    "print(type(d))"
   ]
  },
  {
   "cell_type": "code",
   "execution_count": null,
   "metadata": {},
   "outputs": [],
   "source": [
    "a = [10,20,30,40]\n",
    "print(type())\n",
    "\n",
    "t2 = ['name' ,'hong', 'age',0 , 'addr','seoul']\n",
    "print(type(t2))"
   ]
  },
  {
   "cell_type": "code",
   "execution_count": null,
   "metadata": {},
   "outputs": [],
   "source": [
    "tf =True\n",
    "tf2 = False\n",
    "print(type(tf))\n",
    "print(type(tf2))"
   ]
  },
  {
   "cell_type": "code",
   "execution_count": null,
   "metadata": {},
   "outputs": [],
   "source": [
    "a=0.2\n",
    "b=0.1\n",
    "a+b"
   ]
  },
  {
   "cell_type": "code",
   "execution_count": null,
   "metadata": {},
   "outputs": [],
   "source": [
    "name = 'hong gil dong'\n",
    "age = 20\n",
    "print(\"이름은: \" + name + \"나이: \" + str(age))\n",
    "#age 라는 것은 숫자 정보라서 str로 문자데이터로 바꿔줌"
   ]
  },
  {
   "cell_type": "code",
   "execution_count": null,
   "metadata": {},
   "outputs": [],
   "source": [
    "irum = 'hong gil dong'\n",
    "age = 20\n",
    "print(f\"이름은 {irum}, 나이는 {age}\")"
   ]
  },
  {
   "cell_type": "code",
   "execution_count": null,
   "metadata": {},
   "outputs": [],
   "source": [
    "print(f\"{name}'s age {age}\")\n",
    "print(f' may name is {name}')"
   ]
  },
  {
   "cell_type": "code",
   "execution_count": null,
   "metadata": {},
   "outputs": [],
   "source": [
    "irum = \"\\'박하나\\'\"\n",
    "print(irum)"
   ]
  },
  {
   "cell_type": "code",
   "execution_count": null,
   "metadata": {
    "scrolled": true
   },
   "outputs": [],
   "source": [
    "title =\"한은, 기준금리 0.5%로 동결…\\'경기 방어\\'에 초점(종합)\"\n",
    "\n",
    "print(title)"
   ]
  },
  {
   "cell_type": "code",
   "execution_count": null,
   "metadata": {},
   "outputs": [],
   "source": [
    "name = '김지연'\n",
    "age = 10\n",
    "print('이름은 %s, 나이는 %d'%(name, age))"
   ]
  },
  {
   "cell_type": "code",
   "execution_count": null,
   "metadata": {},
   "outputs": [],
   "source": [
    "addr = '서울'\n",
    "print('이름은 {0} 나이는 {1}, 사는곳 {2}'.format(name, age, addr))"
   ]
  },
  {
   "cell_type": "code",
   "execution_count": null,
   "metadata": {},
   "outputs": [],
   "source": [
    " p=20;\n",
    "print('%d %%' %(p));"
   ]
  },
  {
   "cell_type": "code",
   "execution_count": null,
   "metadata": {},
   "outputs": [],
   "source": [
    "#range(초기, 끝, 증가)\n",
    "for index in range(1, 10, 1): #1부터 10직전까지 1 만큼 차이나게 \n",
    "    print(index)"
   ]
  },
  {
   "cell_type": "code",
   "execution_count": null,
   "metadata": {},
   "outputs": [],
   "source": [
    "for i in range(1,5, 2): #1부터 5직전 까지 2 만큼 차이 나게 \n",
    "    print(i)"
   ]
  },
  {
   "cell_type": "code",
   "execution_count": null,
   "metadata": {
    "scrolled": true
   },
   "outputs": [],
   "source": [
    "for i in range(1,20,3): #1부터 20직전까지 3만큼 차이나게\n",
    "    print(i)"
   ]
  },
  {
   "cell_type": "code",
   "execution_count": null,
   "metadata": {},
   "outputs": [],
   "source": [
    "for i in range(10, 1 , -1): #\n",
    "    print(i)"
   ]
  },
  {
   "cell_type": "code",
   "execution_count": null,
   "metadata": {},
   "outputs": [],
   "source": [
    "for index in range(1,11):\n",
    "    print(\"<{0:4d}> {1:10d} {2:4d}\".format(index, index*2, index*index));#출력값을 띄어주기위해서\n"
   ]
  },
  {
   "cell_type": "code",
   "execution_count": null,
   "metadata": {},
   "outputs": [],
   "source": [
    "print('{1} {0} and {other}'.format('aaa','bbb', other='hello....'));"
   ]
  },
  {
   "cell_type": "code",
   "execution_count": null,
   "metadata": {},
   "outputs": [],
   "source": [
    "for i in range(1,10):\n",
    "    print(i, end=\", \")"
   ]
  },
  {
   "cell_type": "code",
   "execution_count": null,
   "metadata": {},
   "outputs": [],
   "source": [
    "for i in range(1,10):\n",
    "    for k in range(i, 10):\n",
    "        print(\"s\",end=\"\")\n",
    "    print(\"\")"
   ]
  },
  {
   "cell_type": "code",
   "execution_count": null,
   "metadata": {},
   "outputs": [],
   "source": [
    "a = 10\n",
    "b = 3\n",
    "print( a+b )"
   ]
  },
  {
   "cell_type": "code",
   "execution_count": null,
   "metadata": {},
   "outputs": [],
   "source": [
    "a-b"
   ]
  },
  {
   "cell_type": "code",
   "execution_count": null,
   "metadata": {},
   "outputs": [],
   "source": [
    "a*b"
   ]
  },
  {
   "cell_type": "code",
   "execution_count": null,
   "metadata": {},
   "outputs": [],
   "source": [
    "a/b"
   ]
  },
  {
   "cell_type": "code",
   "execution_count": null,
   "metadata": {},
   "outputs": [],
   "source": [
    "a%b"
   ]
  },
  {
   "cell_type": "code",
   "execution_count": null,
   "metadata": {},
   "outputs": [],
   "source": [
    "a//b"
   ]
  },
  {
   "cell_type": "code",
   "execution_count": null,
   "metadata": {},
   "outputs": [],
   "source": [
    "2**3"
   ]
  },
  {
   "cell_type": "code",
   "execution_count": null,
   "metadata": {},
   "outputs": [],
   "source": [
    "3**4"
   ]
  },
  {
   "cell_type": "code",
   "execution_count": null,
   "metadata": {},
   "outputs": [],
   "source": [
    "divmod(5,3) # divmod(5,3 ) -> 나눈(몫, 나머지)"
   ]
  },
  {
   "cell_type": "code",
   "execution_count": null,
   "metadata": {},
   "outputs": [],
   "source": [
    "abs(-10) # abs = 절대값 "
   ]
  },
  {
   "cell_type": "code",
   "execution_count": null,
   "metadata": {
    "scrolled": true
   },
   "outputs": [],
   "source": [
    "pow(3,2) # pow(3,2) -> 3의 2승 = 3**4"
   ]
  },
  {
   "cell_type": "markdown",
   "metadata": {},
   "source": [
    "제곱 승을 하는 기능) **와 pow는 동일한 기능이다."
   ]
  },
  {
   "cell_type": "code",
   "execution_count": null,
   "metadata": {},
   "outputs": [],
   "source": [
    "name = 'hong gil dong'\n",
    "age = 20\n",
    "print(name + \", \" + str(age))"
   ]
  },
  {
   "cell_type": "code",
   "execution_count": null,
   "metadata": {},
   "outputs": [],
   "source": [
    "a=20\n",
    "b=float(a)\n",
    "print(b)"
   ]
  },
  {
   "cell_type": "code",
   "execution_count": null,
   "metadata": {},
   "outputs": [],
   "source": [
    "a= 20.3\n",
    "b= int(a)\n",
    "print(a)\n",
    "print(b)"
   ]
  },
  {
   "cell_type": "code",
   "execution_count": null,
   "metadata": {},
   "outputs": [],
   "source": [
    "a = 'hong'\n",
    "a+= 'kim'\n",
    "print(a)"
   ]
  },
  {
   "cell_type": "code",
   "execution_count": null,
   "metadata": {},
   "outputs": [],
   "source": [
    "a=20\n",
    "a+=3 # a= a+3\n",
    "print(a)"
   ]
  },
  {
   "cell_type": "code",
   "execution_count": null,
   "metadata": {},
   "outputs": [],
   "source": [
    "a-=30 # a= a-30\n",
    "print(a)"
   ]
  },
  {
   "cell_type": "code",
   "execution_count": null,
   "metadata": {},
   "outputs": [],
   "source": [
    "a=30\n",
    "a//=3 # a= a//3 \n",
    "a"
   ]
  },
  {
   "cell_type": "code",
   "execution_count": null,
   "metadata": {},
   "outputs": [],
   "source": [
    "a=20\n",
    "a%=3 #a= a%3 \n",
    "a"
   ]
  },
  {
   "cell_type": "code",
   "execution_count": null,
   "metadata": {},
   "outputs": [],
   "source": [
    "True and False"
   ]
  },
  {
   "cell_type": "code",
   "execution_count": null,
   "metadata": {},
   "outputs": [],
   "source": [
    "10>20 and 10 == 20"
   ]
  },
  {
   "cell_type": "code",
   "execution_count": null,
   "metadata": {},
   "outputs": [],
   "source": [
    "10 >5 and 10 > 2"
   ]
  },
  {
   "cell_type": "code",
   "execution_count": null,
   "metadata": {},
   "outputs": [],
   "source": [
    "10 == 10 or 10 >=20"
   ]
  },
  {
   "cell_type": "code",
   "execution_count": null,
   "metadata": {},
   "outputs": [],
   "source": [
    "not(True)"
   ]
  },
  {
   "cell_type": "code",
   "execution_count": null,
   "metadata": {},
   "outputs": [],
   "source": [
    "a=[10,20,30,40]\n",
    "type(a)"
   ]
  },
  {
   "cell_type": "code",
   "execution_count": null,
   "metadata": {},
   "outputs": [],
   "source": [
    "a=[10,20,30,40]\n",
    "b=[10,20,30,40]\n",
    "print(a ==b) \n",
    "print(a is b)"
   ]
  },
  {
   "cell_type": "code",
   "execution_count": null,
   "metadata": {},
   "outputs": [],
   "source": [
    "a=[10,20,30,40]\n",
    "b=a #얕은 복사\n",
    "print(a==b)\n",
    "print(a is b)"
   ]
  },
  {
   "cell_type": "code",
   "execution_count": null,
   "metadata": {},
   "outputs": [],
   "source": [
    "a=[10,20,30,40]\n",
    "b=a.copy()  #요소들을 카피해서 새로운 메모리에 옮긺 -> 객체는 다름 #깊은 복사\n",
    "print(a==b)\n",
    "print(a is b)"
   ]
  },
  {
   "cell_type": "code",
   "execution_count": null,
   "metadata": {},
   "outputs": [],
   "source": [
    "lst1=[10,20,30,40]\n",
    "lst2=[10,30,40,50]\n",
    "print(lst1[0] == lst2[0])\n",
    "print(lst1 == lst2)\n",
    "print(lst1 != lst2)\n",
    "print(lst1 is lst2)\n",
    "print(lst1 is not lst2)"
   ]
  },
  {
   "cell_type": "markdown",
   "metadata": {},
   "source": [
    "## == : 각 요소들끼리 비교  /  is : 객체와 객체 비교"
   ]
  },
  {
   "cell_type": "code",
   "execution_count": null,
   "metadata": {},
   "outputs": [],
   "source": [
    "a = 'hong gil dong'\n",
    "type(a)"
   ]
  },
  {
   "cell_type": "code",
   "execution_count": null,
   "metadata": {},
   "outputs": [],
   "source": [
    "a = ['hong', 'kim','lee','park']\n",
    "'hong' in a"
   ]
  },
  {
   "cell_type": "code",
   "execution_count": null,
   "metadata": {},
   "outputs": [],
   "source": [
    "'test' in a"
   ]
  },
  {
   "cell_type": "code",
   "execution_count": null,
   "metadata": {},
   "outputs": [],
   "source": [
    "a=[10,20,30,40]\n",
    "10 in a"
   ]
  },
  {
   "cell_type": "code",
   "execution_count": null,
   "metadata": {},
   "outputs": [],
   "source": [
    "100 in a"
   ]
  },
  {
   "cell_type": "code",
   "execution_count": null,
   "metadata": {
    "scrolled": true
   },
   "outputs": [],
   "source": [
    "help(str) #더 자세히 확인할때"
   ]
  },
  {
   "cell_type": "code",
   "execution_count": null,
   "metadata": {},
   "outputs": [],
   "source": [
    "dir(str) #목록"
   ]
  },
  {
   "cell_type": "code",
   "execution_count": 4,
   "metadata": {},
   "outputs": [
    {
     "name": "stdout",
     "output_type": "stream",
     "text": [
      "Hong gil dong\n"
     ]
    }
   ],
   "source": [
    "# jupyter notebook tab: \n",
    "a= 'hong gil dong'\n",
    "b=a.capitalize()\n",
    "print(b)\n",
    "# shift tab "
   ]
  },
  {
   "cell_type": "markdown",
   "metadata": {},
   "source": [
    "# ======조건문 ( if ) ======"
   ]
  },
  {
   "cell_type": "code",
   "execution_count": 8,
   "metadata": {},
   "outputs": [
    {
     "name": "stdout",
     "output_type": "stream",
     "text": [
      "이름을 입력하시오: \n",
      "나이를 입력하시오 : ㅇ\n",
      " ㅇ\n"
     ]
    }
   ],
   "source": [
    "name = input('이름을 입력하시오: ')\n",
    "age = input('나이를 입력하시오 : ')\n",
    "print(name, end = \" \")\n",
    "print(age)"
   ]
  },
  {
   "cell_type": "code",
   "execution_count": 16,
   "metadata": {},
   "outputs": [
    {
     "name": "stdout",
     "output_type": "stream",
     "text": [
      "input kor: 70\n",
      "input eng: 80\n",
      "kor:70, eng: 80, tot:150\n"
     ]
    }
   ],
   "source": [
    "kor = int(input('input kor: '))\n",
    "eng = int(input('input eng: '))\n",
    "tot = kor + eng #문자에 대한 연결로 인식 -> input 값을 int로 형변환\n",
    "print('kor:{0}, eng: {1}, tot:{2}'.format(kor,eng,tot))\n"
   ]
  },
  {
   "cell_type": "code",
   "execution_count": 22,
   "metadata": {},
   "outputs": [
    {
     "name": "stdout",
     "output_type": "stream",
     "text": [
      "input jumsu: 60\n",
      "점수: 60점, 합격\n",
      "축하합니다.\n"
     ]
    }
   ],
   "source": [
    "jumsu = int(input('input jumsu: '))\n",
    "\n",
    "if jumsu >=60:\n",
    "    print(\"점수: {0}점, 합격\".format(jumsu))\n",
    "    print('축하합니다.')    "
   ]
  },
  {
   "cell_type": "code",
   "execution_count": 25,
   "metadata": {},
   "outputs": [
    {
     "name": "stdout",
     "output_type": "stream",
     "text": [
      "input jumsu: 40\n",
      "점수: 40점, 불합격\n"
     ]
    }
   ],
   "source": [
    "jumsu = int(input('input jumsu: '))\n",
    "if jumsu >= 60:\n",
    "    print(\"점수: {0}점, 합격\".format(jumsu))\n",
    "else:\n",
    "    print(\"점수: {0}점, 불합격\".format(jumsu))"
   ]
  },
  {
   "cell_type": "code",
   "execution_count": 30,
   "metadata": {},
   "outputs": [
    {
     "name": "stdout",
     "output_type": "stream",
     "text": [
      "input jumsu: 33\n",
      "가\n"
     ]
    }
   ],
   "source": [
    "jumsu = int(input('input jumsu: '))\n",
    "if jumsu >=90:\n",
    "    print(\"수\")\n",
    "elif jumsu >=80:\n",
    "    print(\"우\")\n",
    "elif jumsu >=70:\n",
    "    print(\"미\")\n",
    "elif jumsu >= 60:\n",
    "    print(\"양\")\n",
    "else:\n",
    "    print(\"가\")\n"
   ]
  },
  {
   "cell_type": "code",
   "execution_count": 8,
   "metadata": {},
   "outputs": [
    {
     "name": "stdout",
     "output_type": "stream",
     "text": [
      "국어 점수를 입력하시오 : 90\n",
      "영어 점수를 입력하시오: 80\n",
      "============================================\n",
      "국어:90점, 영어:80점 ======> Good\n"
     ]
    }
   ],
   "source": [
    "Kscore = int(input('국어 점수를 입력하시오 : '))\n",
    "Escore = int(input('영어 점수를 입력하시오: '))\n",
    "print(\"============================================\")\n",
    "if Kscore >=90 and Escore >=90:\n",
    "    print(\"국어:{0}점, 영어:{1}점 ======> very Good\".format(Kscore, Escore))\n",
    "elif Kscore >=90 or Escore >=90:\n",
    "    print(\"국어:{0}점, 영어:{1}점 ======> Good\".format(Kscore, Escore))\n",
    "else:\n",
    "    print(\"국어:{0}점, 영어:{1}점 ======> Bad\".format(Kscore, Escore))\n",
    "    "
   ]
  },
  {
   "cell_type": "markdown",
   "metadata": {},
   "source": [
    "# while문 True 일동안 반복"
   ]
  },
  {
   "cell_type": "code",
   "execution_count": 14,
   "metadata": {},
   "outputs": [
    {
     "name": "stdout",
     "output_type": "stream",
     "text": [
      "1 2 3 4 5 6 7 8 9 10 "
     ]
    }
   ],
   "source": [
    "#1부터 10까지 출력하는 구문\n",
    "i = 1\n",
    "while(i<=10):\n",
    "    print(i,end=\" \")\n",
    "    i+=1    "
   ]
  },
  {
   "cell_type": "code",
   "execution_count": 17,
   "metadata": {},
   "outputs": [
    {
     "name": "stdout",
     "output_type": "stream",
     "text": [
      "1\n",
      "3\n",
      "5\n",
      "7\n",
      "9\n"
     ]
    }
   ],
   "source": [
    "#1 3 5 7 9를 출력하시오\n",
    "\n",
    "i = 1\n",
    "while(i<10):\n",
    "    if(i%2 ==1):\n",
    "        print(i)\n",
    "    i+=1"
   ]
  },
  {
   "cell_type": "code",
   "execution_count": 10,
   "metadata": {},
   "outputs": [
    {
     "name": "stdout",
     "output_type": "stream",
     "text": [
      "1 현재 총합값 :1\n",
      "2 현재 총합값 :3\n",
      "3 현재 총합값 :6\n",
      "4 현재 총합값 :10\n",
      "5 현재 총합값 :15\n",
      "6 현재 총합값 :21\n",
      "7 현재 총합값 :28\n",
      "8 현재 총합값 :36\n",
      "9 현재 총합값 :45\n"
     ]
    }
   ],
   "source": [
    "#1부터 누적합이 45일때까지 출력하시오()\n",
    "i=1\n",
    "score = 0\n",
    "while(score < 45):\n",
    "    score +=i\n",
    "    print(i, \"현재 총합값 :{0}\".format(score))\n",
    "    i+=1\n",
    "    \n",
    "    \n",
    "    "
   ]
  },
  {
   "cell_type": "code",
   "execution_count": 14,
   "metadata": {},
   "outputs": [
    {
     "name": "stdout",
     "output_type": "stream",
     "text": [
      "안 녕 하 세 요 .   만 나 서   반 갑 습 니 다 . \n",
      "하\n"
     ]
    }
   ],
   "source": [
    "title = '안녕하세요. 만나서 반갑습니다.'\n",
    "for index in title:\n",
    "    print(index, end=\" \")\n",
    "print('\\n'+ title[2])"
   ]
  },
  {
   "cell_type": "code",
   "execution_count": 17,
   "metadata": {},
   "outputs": [
    {
     "name": "stdout",
     "output_type": "stream",
     "text": [
      "10 20 30 40 50 "
     ]
    }
   ],
   "source": [
    "for i in [10,20,30,40,50]:\n",
    "    print(i, end=\" \")"
   ]
  },
  {
   "cell_type": "code",
   "execution_count": 19,
   "metadata": {
    "scrolled": true
   },
   "outputs": [
    {
     "name": "stdout",
     "output_type": "stream",
     "text": [
      "1,2,3,4,"
     ]
    }
   ],
   "source": [
    "for a in range(1, 5):\n",
    "    print(a, end= \",\")"
   ]
  },
  {
   "cell_type": "code",
   "execution_count": 1,
   "metadata": {},
   "outputs": [
    {
     "name": "stdout",
     "output_type": "stream",
     "text": [
      "0\n",
      "1\n",
      "2\n",
      "3\n"
     ]
    }
   ],
   "source": [
    "for data in range(4):\n",
    "    print(data)"
   ]
  },
  {
   "cell_type": "code",
   "execution_count": 2,
   "metadata": {},
   "outputs": [
    {
     "name": "stdout",
     "output_type": "stream",
     "text": [
      "5     4     3     2     "
     ]
    }
   ],
   "source": [
    "for index in range(5, 1, -1):\n",
    "    print(index, end = \"     \")"
   ]
  },
  {
   "cell_type": "code",
   "execution_count": 3,
   "metadata": {},
   "outputs": [],
   "source": [
    "for data in range(5,1):\n",
    "    print(data, end= \", \")"
   ]
  },
  {
   "cell_type": "code",
   "execution_count": 18,
   "metadata": {},
   "outputs": [
    {
     "name": "stdout",
     "output_type": "stream",
     "text": [
      "         *\n",
      "        ***\n",
      "       *****\n",
      "      *******\n",
      "     *********\n",
      "    ***********\n",
      "   *************\n",
      "  ***************\n",
      " *****************\n",
      "*******************\n"
     ]
    }
   ],
   "source": [
    "#피라미드 만들기\n",
    "for i in range(0,10):\n",
    "    for k in range(1,10-i):\n",
    "        print(\" \", end= \"\")\n",
    "    for j in range(0, 2*i+1):\n",
    "        print(\"*\", end= \"\")\n",
    "    print(\"\")"
   ]
  },
  {
   "cell_type": "code",
   "execution_count": null,
   "metadata": {},
   "outputs": [],
   "source": []
  }
 ],
 "metadata": {
  "kernelspec": {
   "display_name": "Python 3",
   "language": "python",
   "name": "python3"
  },
  "language_info": {
   "codemirror_mode": {
    "name": "ipython",
    "version": 3
   },
   "file_extension": ".py",
   "mimetype": "text/x-python",
   "name": "python",
   "nbconvert_exporter": "python",
   "pygments_lexer": "ipython3",
   "version": "3.8.5"
  }
 },
 "nbformat": 4,
 "nbformat_minor": 4
}
