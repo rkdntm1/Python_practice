{
 "cells": [
  {
   "cell_type": "code",
   "execution_count": 1,
   "metadata": {},
   "outputs": [
    {
     "name": "stdout",
     "output_type": "stream",
     "text": [
      "<__main__.Dog object at 0x000002F1F81B4880>\n",
      "<__main__.Dog object at 0x000002F1F81B48E0>\n"
     ]
    }
   ],
   "source": [
    "class Dog:\n",
    "    pass\n",
    "d1= Dog()\n",
    "d2= Dog()\n",
    "print(d1)\n",
    "print(d2)"
   ]
  },
  {
   "cell_type": "code",
   "execution_count": 4,
   "metadata": {},
   "outputs": [],
   "source": [
    "class Dog:\n",
    "    def prt(self):\n",
    "        print(\"self:{0}\".format(self))\n",
    "        print('prt')"
   ]
  },
  {
   "cell_type": "code",
   "execution_count": 6,
   "metadata": {},
   "outputs": [
    {
     "name": "stdout",
     "output_type": "stream",
     "text": [
      "object d:<__main__.Dog object at 0x000002F1F81B4A60>\n",
      "self:<__main__.Dog object at 0x000002F1F81B4A60>\n",
      "prt\n"
     ]
    }
   ],
   "source": [
    "d=Dog()\n",
    "print('object d:{0}'.format(d))\n",
    "d.prt()"
   ]
  },
  {
   "cell_type": "code",
   "execution_count": 11,
   "metadata": {},
   "outputs": [],
   "source": [
    "class Man:\n",
    "    def prt(self):\n",
    "        print(\"main's prt method\")"
   ]
  },
  {
   "cell_type": "code",
   "execution_count": 12,
   "metadata": {},
   "outputs": [
    {
     "name": "stdout",
     "output_type": "stream",
     "text": [
      "main's prt method\n"
     ]
    }
   ],
   "source": [
    "m= Man()\n",
    "m.prt()"
   ]
  },
  {
   "cell_type": "code",
   "execution_count": 3,
   "metadata": {},
   "outputs": [],
   "source": [
    "class Person:\n",
    "    name = 'hong gil dong' #멤버변수\n",
    "    def prt(self):\n",
    "        print('name:{0}'.format(self.name))\n",
    "        print('self object: {0}'.format(self))"
   ]
  },
  {
   "cell_type": "code",
   "execution_count": 9,
   "metadata": {},
   "outputs": [
    {
     "name": "stdout",
     "output_type": "stream",
     "text": [
      "name:hong gil dong\n",
      "self object: <__main__.Person object at 0x0000029AC116B7F0>\n",
      "name:hong gil dong\n",
      "self object: <__main__.Person object at 0x0000029AC116B190>\n",
      "True\n",
      "False\n"
     ]
    }
   ],
   "source": [
    "p1 = Person()\n",
    "p2 = Person()\n",
    "\n",
    "p1.prt()\n",
    "p2.prt()\n",
    "\n",
    "print(p1.name == p2.name)\n",
    "print(p1 is p2)"
   ]
  },
  {
   "cell_type": "code",
   "execution_count": 15,
   "metadata": {},
   "outputs": [],
   "source": [
    "class Student:\n",
    "    name = None\n",
    "    age = 0\n",
    "    def setData(self, name, age):\n",
    "        self.name = name\n",
    "        self.age = age\n",
    "    def getData(self):\n",
    "        print(\"name:{0}, age: {1}\".format(self.name, self.age))  "
   ]
  },
  {
   "cell_type": "code",
   "execution_count": 18,
   "metadata": {},
   "outputs": [
    {
     "name": "stdout",
     "output_type": "stream",
     "text": [
      "name:hong, age: 20\n",
      "=======================\n",
      "hong 20\n"
     ]
    }
   ],
   "source": [
    "s1 = Student() \n",
    "s1.setData('hong', 20)\n",
    "s1.getData()\n",
    "print('=======================')\n",
    "print(s1.name, s1.age)"
   ]
  },
  {
   "cell_type": "code",
   "execution_count": 32,
   "metadata": {},
   "outputs": [],
   "source": [
    "class Person:\n",
    "    name = None\n",
    "    age = 0\n",
    "    def __init__(self, name, age):\n",
    "        self.name = name\n",
    "        self.age = age\n",
    "    def prt(self):\n",
    "        print('name; %s, age: %d'%(self.name, self.age))\n"
   ]
  },
  {
   "cell_type": "code",
   "execution_count": 34,
   "metadata": {},
   "outputs": [],
   "source": [
    "p1=Person('hong',20)"
   ]
  },
  {
   "cell_type": "code",
   "execution_count": 35,
   "metadata": {},
   "outputs": [
    {
     "name": "stdout",
     "output_type": "stream",
     "text": [
      "name; hong, age: 20\n"
     ]
    }
   ],
   "source": [
    "p1.prt()"
   ]
  },
  {
   "cell_type": "code",
   "execution_count": 37,
   "metadata": {},
   "outputs": [
    {
     "name": "stdout",
     "output_type": "stream",
     "text": [
      "Help on method_descriptor:\n",
      "\n",
      "upper(self, /)\n",
      "    Return a copy of the string converted to uppercase.\n",
      "\n"
     ]
    }
   ],
   "source": [
    "help(str.upper)"
   ]
  },
  {
   "cell_type": "code",
   "execution_count": 54,
   "metadata": {},
   "outputs": [],
   "source": [
    "class Sample:\n",
    "    def __init__(self):#객ㅊ\n",
    "        print('생성자')\n",
    "    def __del__(self): #객체가 없어졌을대\n",
    "        print('소멸자')"
   ]
  },
  {
   "cell_type": "code",
   "execution_count": 55,
   "metadata": {},
   "outputs": [
    {
     "name": "stdout",
     "output_type": "stream",
     "text": [
      "생성자\n",
      "소멸자\n"
     ]
    }
   ],
   "source": [
    "s=Sample()"
   ]
  },
  {
   "cell_type": "code",
   "execution_count": 59,
   "metadata": {},
   "outputs": [
    {
     "name": "stdout",
     "output_type": "stream",
     "text": [
      "소멸자\n"
     ]
    }
   ],
   "source": [
    "del s"
   ]
  },
  {
   "cell_type": "code",
   "execution_count": 58,
   "metadata": {},
   "outputs": [
    {
     "name": "stdout",
     "output_type": "stream",
     "text": [
      "생성자\n"
     ]
    }
   ],
   "source": [
    "s.__init__()"
   ]
  },
  {
   "cell_type": "code",
   "execution_count": 72,
   "metadata": {},
   "outputs": [],
   "source": [
    "class Man():\n",
    "    #변수 선언을 안할때 멤버변수 : name ,age\n",
    "    def setdata(self, name ,age):\n",
    "        self.name = name \n",
    "        self.age = age\n",
    "        print('name:%s, age:%d'%(self.name, self.age))\n",
    "    def getData(self):\n",
    "        print(self.name)\n",
    "        print(self.age)"
   ]
  },
  {
   "cell_type": "code",
   "execution_count": 73,
   "metadata": {},
   "outputs": [
    {
     "name": "stdout",
     "output_type": "stream",
     "text": [
      "name:hong, age:20\n",
      "hong\n",
      "20\n"
     ]
    }
   ],
   "source": [
    "m1 = Man()\n",
    "m1.setdata('hong', 20)\n",
    "m1.getData()"
   ]
  },
  {
   "cell_type": "code",
   "execution_count": 74,
   "metadata": {},
   "outputs": [
    {
     "name": "stdout",
     "output_type": "stream",
     "text": [
      "hong\n",
      "20\n"
     ]
    }
   ],
   "source": [
    "print(m1.name)\n",
    "print(m1.age)"
   ]
  },
  {
   "cell_type": "code",
   "execution_count": 75,
   "metadata": {},
   "outputs": [
    {
     "ename": "AttributeError",
     "evalue": "type object 'Man' has no attribute 'name'",
     "output_type": "error",
     "traceback": [
      "\u001b[1;31m---------------------------------------------------------------------------\u001b[0m",
      "\u001b[1;31mAttributeError\u001b[0m                            Traceback (most recent call last)",
      "\u001b[1;32m<ipython-input-75-21550c745105>\u001b[0m in \u001b[0;36m<module>\u001b[1;34m\u001b[0m\n\u001b[1;32m----> 1\u001b[1;33m \u001b[0mprint\u001b[0m\u001b[1;33m(\u001b[0m\u001b[0mMan\u001b[0m\u001b[1;33m.\u001b[0m\u001b[0mname\u001b[0m\u001b[1;33m,\u001b[0m \u001b[0mMan\u001b[0m\u001b[1;33m.\u001b[0m\u001b[0mage\u001b[0m\u001b[1;33m)\u001b[0m\u001b[1;33m\u001b[0m\u001b[1;33m\u001b[0m\u001b[0m\n\u001b[0m",
      "\u001b[1;31mAttributeError\u001b[0m: type object 'Man' has no attribute 'name'"
     ]
    }
   ],
   "source": [
    "print(Man.name, Man.age)"
   ]
  },
  {
   "cell_type": "code",
   "execution_count": 76,
   "metadata": {},
   "outputs": [],
   "source": [
    "class Man2():\n",
    "    name = None\n",
    "    age = 0\n",
    "    def setdata(self, name ,age):\n",
    "        self.name = name \n",
    "        self.age = age\n",
    "        print('name:%s, age:%d'%(self.name, self.age))\n",
    "    def getData(self):\n",
    "        print(self.name)\n",
    "        print(self.age)"
   ]
  },
  {
   "cell_type": "code",
   "execution_count": 78,
   "metadata": {},
   "outputs": [
    {
     "name": "stdout",
     "output_type": "stream",
     "text": [
      "name:hong, age:20\n",
      "hong\n",
      "20\n"
     ]
    }
   ],
   "source": [
    "m2=Man2()\n",
    "\n",
    "m2.setdata('hong', 20)\n",
    "m2.getData()"
   ]
  },
  {
   "cell_type": "code",
   "execution_count": 79,
   "metadata": {},
   "outputs": [
    {
     "name": "stdout",
     "output_type": "stream",
     "text": [
      "hong\n",
      "20\n"
     ]
    }
   ],
   "source": [
    "print(m2.name)\n",
    "print(m2.age)"
   ]
  },
  {
   "cell_type": "code",
   "execution_count": 80,
   "metadata": {},
   "outputs": [
    {
     "name": "stdout",
     "output_type": "stream",
     "text": [
      "None 0\n"
     ]
    }
   ],
   "source": [
    "print(Man2.name, Man2.age)"
   ]
  },
  {
   "cell_type": "code",
   "execution_count": 82,
   "metadata": {},
   "outputs": [],
   "source": [
    "class Sample:\n",
    "    def __init__(self, name, age):\n",
    "        self.name = name\n",
    "        self.age =age\n",
    "    def __str__(self):\n",
    "        return self.name + str(self.age)"
   ]
  },
  {
   "cell_type": "code",
   "execution_count": 83,
   "metadata": {},
   "outputs": [
    {
     "name": "stdout",
     "output_type": "stream",
     "text": [
      "aa10\n"
     ]
    }
   ],
   "source": [
    "s1 = Sample('aa',10)\n",
    "print(s1)"
   ]
  },
  {
   "cell_type": "code",
   "execution_count": null,
   "metadata": {},
   "outputs": [],
   "source": []
  }
 ],
 "metadata": {
  "kernelspec": {
   "display_name": "Python 3",
   "language": "python",
   "name": "python3"
  },
  "language_info": {
   "codemirror_mode": {
    "name": "ipython",
    "version": 3
   },
   "file_extension": ".py",
   "mimetype": "text/x-python",
   "name": "python",
   "nbconvert_exporter": "python",
   "pygments_lexer": "ipython3",
   "version": "3.8.5"
  }
 },
 "nbformat": 4,
 "nbformat_minor": 4
}
