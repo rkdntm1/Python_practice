{
 "cells": [
  {
   "cell_type": "code",
   "execution_count": 2,
   "metadata": {},
   "outputs": [
    {
     "name": "stdout",
     "output_type": "stream",
     "text": [
      "<__main__.Dog object at 0x0000024458E4F610>\n",
      "<__main__.Dog object at 0x0000024458E4F6A0>\n"
     ]
    }
   ],
   "source": [
    "class Dog():\n",
    "    pass\n",
    "d1= Dog()\n",
    "d2= Dog()\n",
    "print(d1)\n",
    "print(d2)"
   ]
  },
  {
   "cell_type": "code",
   "execution_count": 3,
   "metadata": {},
   "outputs": [],
   "source": [
    "class Dog():\n",
    "    def prt(self):\n",
    "        print(\"self:{0}\".format(self))\n",
    "        print('prt')"
   ]
  },
  {
   "cell_type": "code",
   "execution_count": 4,
   "metadata": {},
   "outputs": [
    {
     "name": "stdout",
     "output_type": "stream",
     "text": [
      "object d:<__main__.Dog object at 0x0000024458E3C7C0>\n",
      "self:<__main__.Dog object at 0x0000024458E3C7C0>\n",
      "prt\n"
     ]
    }
   ],
   "source": [
    "d=Dog()\n",
    "print('object d:{0}'.format(d))\n",
    "d.prt()"
   ]
  },
  {
   "cell_type": "code",
   "execution_count": 5,
   "metadata": {},
   "outputs": [],
   "source": [
    "class Man:\n",
    "    def prt(self):\n",
    "        print(\"main's prt method\")"
   ]
  },
  {
   "cell_type": "code",
   "execution_count": 12,
   "metadata": {},
   "outputs": [
    {
     "name": "stdout",
     "output_type": "stream",
     "text": [
      "main's prt method\n"
     ]
    }
   ],
   "source": [
    "m= Man()\n",
    "m.prt()"
   ]
  },
  {
   "cell_type": "code",
   "execution_count": 3,
   "metadata": {},
   "outputs": [],
   "source": [
    "class Person:\n",
    "    name = 'hong gil dong' #멤버변수\n",
    "    def prt(self):\n",
    "        print('name:{0}'.format(self.name))\n",
    "        print('self object: {0}'.format(self))"
   ]
  },
  {
   "cell_type": "code",
   "execution_count": 9,
   "metadata": {},
   "outputs": [
    {
     "name": "stdout",
     "output_type": "stream",
     "text": [
      "name:hong gil dong\n",
      "self object: <__main__.Person object at 0x0000029AC116B7F0>\n",
      "name:hong gil dong\n",
      "self object: <__main__.Person object at 0x0000029AC116B190>\n",
      "True\n",
      "False\n"
     ]
    }
   ],
   "source": [
    "p1 = Person()\n",
    "p2 = Person()\n",
    "\n",
    "p1.prt()\n",
    "p2.prt()\n",
    "\n",
    "print(p1.name == p2.name)\n",
    "print(p1 is p2)"
   ]
  },
  {
   "cell_type": "code",
   "execution_count": 15,
   "metadata": {},
   "outputs": [],
   "source": [
    "class Student:\n",
    "    name = None\n",
    "    age = 0\n",
    "    def setData(self, name, age):\n",
    "        self.name = name\n",
    "        self.age = age\n",
    "    def getData(self):\n",
    "        print(\"name:{0}, age: {1}\".format(self.name, self.age))  "
   ]
  },
  {
   "cell_type": "code",
   "execution_count": 18,
   "metadata": {},
   "outputs": [
    {
     "name": "stdout",
     "output_type": "stream",
     "text": [
      "name:hong, age: 20\n",
      "=======================\n",
      "hong 20\n"
     ]
    }
   ],
   "source": [
    "s1 = Student() \n",
    "s1.setData('hong', 20)\n",
    "s1.getData()\n",
    "print('=======================')\n",
    "print(s1.name, s1.age)"
   ]
  },
  {
   "cell_type": "code",
   "execution_count": 32,
   "metadata": {},
   "outputs": [],
   "source": [
    "class Person:\n",
    "    name = None\n",
    "    age = 0\n",
    "    def __init__(self, name, age):\n",
    "        self.name = name\n",
    "        self.age = age\n",
    "    def prt(self):\n",
    "        print('name; %s, age: %d'%(self.name, self.age))\n"
   ]
  },
  {
   "cell_type": "code",
   "execution_count": 34,
   "metadata": {},
   "outputs": [],
   "source": [
    "p1=Person('hong',20)"
   ]
  },
  {
   "cell_type": "code",
   "execution_count": 35,
   "metadata": {},
   "outputs": [
    {
     "name": "stdout",
     "output_type": "stream",
     "text": [
      "name; hong, age: 20\n"
     ]
    }
   ],
   "source": [
    "p1.prt()"
   ]
  },
  {
   "cell_type": "code",
   "execution_count": 37,
   "metadata": {},
   "outputs": [
    {
     "name": "stdout",
     "output_type": "stream",
     "text": [
      "Help on method_descriptor:\n",
      "\n",
      "upper(self, /)\n",
      "    Return a copy of the string converted to uppercase.\n",
      "\n"
     ]
    }
   ],
   "source": [
    "help(str.upper)"
   ]
  },
  {
   "cell_type": "code",
   "execution_count": 54,
   "metadata": {},
   "outputs": [],
   "source": [
    "class Sample:\n",
    "    def __init__(self):#객ㅊ\n",
    "        print('생성자')\n",
    "    def __del__(self): #객체가 없어졌을대\n",
    "        print('소멸자')"
   ]
  },
  {
   "cell_type": "code",
   "execution_count": 55,
   "metadata": {},
   "outputs": [
    {
     "name": "stdout",
     "output_type": "stream",
     "text": [
      "생성자\n",
      "소멸자\n"
     ]
    }
   ],
   "source": [
    "s=Sample()"
   ]
  },
  {
   "cell_type": "code",
   "execution_count": 59,
   "metadata": {},
   "outputs": [
    {
     "name": "stdout",
     "output_type": "stream",
     "text": [
      "소멸자\n"
     ]
    }
   ],
   "source": [
    "del s"
   ]
  },
  {
   "cell_type": "code",
   "execution_count": 58,
   "metadata": {},
   "outputs": [
    {
     "name": "stdout",
     "output_type": "stream",
     "text": [
      "생성자\n"
     ]
    }
   ],
   "source": [
    "s.__init__()"
   ]
  },
  {
   "cell_type": "code",
   "execution_count": 72,
   "metadata": {},
   "outputs": [],
   "source": [
    "class Man():\n",
    "    #변수 선언을 안할때 멤버변수 : name ,age\n",
    "    def setdata(self, name ,age):\n",
    "        self.name = name \n",
    "        self.age = age\n",
    "        print('name:%s, age:%d'%(self.name, self.age))\n",
    "    def getData(self):\n",
    "        print(self.name)\n",
    "        print(self.age)"
   ]
  },
  {
   "cell_type": "code",
   "execution_count": 73,
   "metadata": {},
   "outputs": [
    {
     "name": "stdout",
     "output_type": "stream",
     "text": [
      "name:hong, age:20\n",
      "hong\n",
      "20\n"
     ]
    }
   ],
   "source": [
    "m1 = Man()\n",
    "m1.setdata('hong', 20)\n",
    "m1.getData()"
   ]
  },
  {
   "cell_type": "code",
   "execution_count": 74,
   "metadata": {},
   "outputs": [
    {
     "name": "stdout",
     "output_type": "stream",
     "text": [
      "hong\n",
      "20\n"
     ]
    }
   ],
   "source": [
    "print(m1.name)\n",
    "print(m1.age)"
   ]
  },
  {
   "cell_type": "code",
   "execution_count": 75,
   "metadata": {},
   "outputs": [
    {
     "ename": "AttributeError",
     "evalue": "type object 'Man' has no attribute 'name'",
     "output_type": "error",
     "traceback": [
      "\u001b[1;31m---------------------------------------------------------------------------\u001b[0m",
      "\u001b[1;31mAttributeError\u001b[0m                            Traceback (most recent call last)",
      "\u001b[1;32m<ipython-input-75-21550c745105>\u001b[0m in \u001b[0;36m<module>\u001b[1;34m\u001b[0m\n\u001b[1;32m----> 1\u001b[1;33m \u001b[0mprint\u001b[0m\u001b[1;33m(\u001b[0m\u001b[0mMan\u001b[0m\u001b[1;33m.\u001b[0m\u001b[0mname\u001b[0m\u001b[1;33m,\u001b[0m \u001b[0mMan\u001b[0m\u001b[1;33m.\u001b[0m\u001b[0mage\u001b[0m\u001b[1;33m)\u001b[0m\u001b[1;33m\u001b[0m\u001b[1;33m\u001b[0m\u001b[0m\n\u001b[0m",
      "\u001b[1;31mAttributeError\u001b[0m: type object 'Man' has no attribute 'name'"
     ]
    }
   ],
   "source": [
    "print(Man.name, Man.age)"
   ]
  },
  {
   "cell_type": "code",
   "execution_count": 76,
   "metadata": {},
   "outputs": [],
   "source": [
    "class Man2():\n",
    "    name = None\n",
    "    age = 0\n",
    "    def setdata(self, name ,age):\n",
    "        self.name = name \n",
    "        self.age = age\n",
    "        print('name:%s, age:%d'%(self.name, self.age))\n",
    "    def getData(self):\n",
    "        print(self.name)\n",
    "        print(self.age)"
   ]
  },
  {
   "cell_type": "code",
   "execution_count": 78,
   "metadata": {},
   "outputs": [
    {
     "name": "stdout",
     "output_type": "stream",
     "text": [
      "name:hong, age:20\n",
      "hong\n",
      "20\n"
     ]
    }
   ],
   "source": [
    "m2=Man2()\n",
    "\n",
    "m2.setdata('hong', 20)\n",
    "m2.getData()"
   ]
  },
  {
   "cell_type": "code",
   "execution_count": 79,
   "metadata": {},
   "outputs": [
    {
     "name": "stdout",
     "output_type": "stream",
     "text": [
      "hong\n",
      "20\n"
     ]
    }
   ],
   "source": [
    "print(m2.name)\n",
    "print(m2.age)"
   ]
  },
  {
   "cell_type": "code",
   "execution_count": 80,
   "metadata": {},
   "outputs": [
    {
     "name": "stdout",
     "output_type": "stream",
     "text": [
      "None 0\n"
     ]
    }
   ],
   "source": [
    "print(Man2.name, Man2.age)"
   ]
  },
  {
   "cell_type": "code",
   "execution_count": 82,
   "metadata": {},
   "outputs": [],
   "source": [
    "class Sample:\n",
    "    def __init__(self, name, age):\n",
    "        self.name = name\n",
    "        self.age =age\n",
    "    def __str__(self):\n",
    "        return self.name + str(self.age)"
   ]
  },
  {
   "cell_type": "code",
   "execution_count": 83,
   "metadata": {},
   "outputs": [
    {
     "name": "stdout",
     "output_type": "stream",
     "text": [
      "aa10\n"
     ]
    }
   ],
   "source": [
    "s1 = Sample('aa',10)\n",
    "print(s1)"
   ]
  },
  {
   "cell_type": "code",
   "execution_count": 10,
   "metadata": {},
   "outputs": [
    {
     "name": "stdout",
     "output_type": "stream",
     "text": [
      "True\n",
      "False\n",
      "hong,20\n",
      "hong,20\n",
      "True\n",
      "True\n"
     ]
    }
   ],
   "source": [
    "class Person:\n",
    "    def __init__(self,name,age):\n",
    "        self.name = name \n",
    "        self.age = age\n",
    "    def __str__(self): #출력\n",
    "        return self.name + ',' + str(self.age)\n",
    "    def __eq__(self,data): #값을 비교\n",
    "        return self.name == data.name and self.age == data.age\n",
    "p1 = Person('hong', 20)\n",
    "p2 = Person('hong', 20)\n",
    "\n",
    "print(p1 == p2)\n",
    "print(p1 is p2)\n",
    "print(p1)\n",
    "print(p2)\n",
    "p3 = p1 \n",
    "print(p1 == p3)\n",
    "print(p1 is p3)\n"
   ]
  },
  {
   "cell_type": "code",
   "execution_count": 7,
   "metadata": {},
   "outputs": [],
   "source": [
    "#상속\n",
    "\n",
    "class Man:\n",
    "    name = 'hong'\n",
    "    addr = 'seoul'\n",
    "    def __str__(self):\n",
    "        return self.name +\", \"+ self.addr\n",
    "    \n",
    "    def prt(self):\n",
    "        print('Man-prt method')\n",
    "    \n",
    "    def sound(self):\n",
    "        print('Man-sound method')   "
   ]
  },
  {
   "cell_type": "code",
   "execution_count": 33,
   "metadata": {},
   "outputs": [
    {
     "name": "stdout",
     "output_type": "stream",
     "text": [
      "hi\n"
     ]
    }
   ],
   "source": [
    "s1 =Student()\n",
    "print(s1)"
   ]
  },
  {
   "cell_type": "code",
   "execution_count": 8,
   "metadata": {},
   "outputs": [],
   "source": [
    "class Student(Man):\n",
    "    nick = 'hi'\n",
    "    def __str__(self):\n",
    "        return self.nick + super().__str__\n",
    "    def view(self):\n",
    "        print(\"Student-view method\")"
   ]
  },
  {
   "cell_type": "code",
   "execution_count": 9,
   "metadata": {},
   "outputs": [
    {
     "ename": "TypeError",
     "evalue": "can only concatenate str (not \"method\") to str",
     "output_type": "error",
     "traceback": [
      "\u001b[1;31m---------------------------------------------------------------------------\u001b[0m",
      "\u001b[1;31mTypeError\u001b[0m                                 Traceback (most recent call last)",
      "\u001b[1;32m<ipython-input-9-c0f1e2ed399f>\u001b[0m in \u001b[0;36m<module>\u001b[1;34m\u001b[0m\n\u001b[0;32m      1\u001b[0m \u001b[0ms1\u001b[0m \u001b[1;33m=\u001b[0m\u001b[0mStudent\u001b[0m\u001b[1;33m(\u001b[0m\u001b[1;33m)\u001b[0m\u001b[1;33m\u001b[0m\u001b[1;33m\u001b[0m\u001b[0m\n\u001b[1;32m----> 2\u001b[1;33m \u001b[0mprint\u001b[0m\u001b[1;33m(\u001b[0m\u001b[0ms1\u001b[0m\u001b[1;33m)\u001b[0m\u001b[1;33m\u001b[0m\u001b[1;33m\u001b[0m\u001b[0m\n\u001b[0m",
      "\u001b[1;32m<ipython-input-8-4e59d9af9b14>\u001b[0m in \u001b[0;36m__str__\u001b[1;34m(self)\u001b[0m\n\u001b[0;32m      2\u001b[0m     \u001b[0mnick\u001b[0m \u001b[1;33m=\u001b[0m \u001b[1;34m'hi'\u001b[0m\u001b[1;33m\u001b[0m\u001b[1;33m\u001b[0m\u001b[0m\n\u001b[0;32m      3\u001b[0m     \u001b[1;32mdef\u001b[0m \u001b[0m__str__\u001b[0m\u001b[1;33m(\u001b[0m\u001b[0mself\u001b[0m\u001b[1;33m)\u001b[0m\u001b[1;33m:\u001b[0m\u001b[1;33m\u001b[0m\u001b[1;33m\u001b[0m\u001b[0m\n\u001b[1;32m----> 4\u001b[1;33m         \u001b[1;32mreturn\u001b[0m \u001b[0mself\u001b[0m\u001b[1;33m.\u001b[0m\u001b[0mnick\u001b[0m \u001b[1;33m+\u001b[0m \u001b[0msuper\u001b[0m\u001b[1;33m(\u001b[0m\u001b[1;33m)\u001b[0m\u001b[1;33m.\u001b[0m\u001b[0m__str__\u001b[0m\u001b[1;33m\u001b[0m\u001b[1;33m\u001b[0m\u001b[0m\n\u001b[0m\u001b[0;32m      5\u001b[0m     \u001b[1;32mdef\u001b[0m \u001b[0mview\u001b[0m\u001b[1;33m(\u001b[0m\u001b[0mself\u001b[0m\u001b[1;33m)\u001b[0m\u001b[1;33m:\u001b[0m\u001b[1;33m\u001b[0m\u001b[1;33m\u001b[0m\u001b[0m\n\u001b[0;32m      6\u001b[0m         \u001b[0mprint\u001b[0m\u001b[1;33m(\u001b[0m\u001b[1;34m\"Student-view method\"\u001b[0m\u001b[1;33m)\u001b[0m\u001b[1;33m\u001b[0m\u001b[1;33m\u001b[0m\u001b[0m\n",
      "\u001b[1;31mTypeError\u001b[0m: can only concatenate str (not \"method\") to str"
     ]
    }
   ],
   "source": [
    "s1 =Student()\n",
    "print(s1)"
   ]
  },
  {
   "cell_type": "code",
   "execution_count": 13,
   "metadata": {},
   "outputs": [
    {
     "name": "stdout",
     "output_type": "stream",
     "text": [
      "Student-view method\n",
      "None\n",
      "hong\n"
     ]
    }
   ],
   "source": [
    "s1 = Student()\n",
    "print(s1.view())\n",
    "s2=Man()\n",
    "print(s2.name)"
   ]
  },
  {
   "cell_type": "code",
   "execution_count": 23,
   "metadata": {},
   "outputs": [
    {
     "name": "stdout",
     "output_type": "stream",
     "text": [
      "True\n",
      "False\n"
     ]
    }
   ],
   "source": [
    "# isinstance(인스턴스 객체, 클래스명)\n",
    "m1 = Man()\n",
    "print(isinstance(m1, Man))\n",
    "print(isinstance(p1, Man))"
   ]
  },
  {
   "cell_type": "code",
   "execution_count": 48,
   "metadata": {},
   "outputs": [],
   "source": [
    "class M1:\n",
    "    def __init__(self, name, age):\n",
    "        self.name  = name\n",
    "        self.age = age\n",
    "    def prt(self):\n",
    "        print(self.name+\", \"+str(self.age))\n",
    "        "
   ]
  },
  {
   "cell_type": "code",
   "execution_count": 49,
   "metadata": {},
   "outputs": [],
   "source": [
    "class M2(M1):\n",
    "    def __init__(self, name, age, addr):\n",
    "        super().__init__(name, age)\n",
    "        self.addr = addr\n",
    "    def view():\n",
    "        print(\"M2 - prt\")"
   ]
  },
  {
   "cell_type": "code",
   "execution_count": 51,
   "metadata": {},
   "outputs": [],
   "source": [
    "m1 = M2('hogn', 20 , 'seoul')"
   ]
  },
  {
   "cell_type": "code",
   "execution_count": 63,
   "metadata": {},
   "outputs": [],
   "source": [
    "class Sample:\n",
    "    def prt(self):\n",
    "        print(\"Sample - prt\")\n",
    "    def view(self):\n",
    "        print(\"Sample - view\")"
   ]
  },
  {
   "cell_type": "code",
   "execution_count": 66,
   "metadata": {},
   "outputs": [],
   "source": [
    "class SubSample(Sample):\n",
    "    def draw(self):\n",
    "        print(\"SubSample - draw\") \n",
    "    def prt(self):\n",
    "        super().prt() # 부모 클래스 접근\n",
    "        print(\"SubSample - prt\")\n",
    "        "
   ]
  },
  {
   "cell_type": "code",
   "execution_count": 67,
   "metadata": {},
   "outputs": [
    {
     "name": "stdout",
     "output_type": "stream",
     "text": [
      "SubSample - draw\n",
      "Sample - prt\n",
      "SubSample - prt\n",
      "Sample - view\n"
     ]
    }
   ],
   "source": [
    "s = SubSample()\n",
    "s.draw()\n",
    "s.prt()\n",
    "s.view()"
   ]
  },
  {
   "cell_type": "markdown",
   "metadata": {},
   "source": [
    "# Static method : 정적메소드  \n",
    "\n",
    "## 클래스에서 직접 접근 할 수 있는 메소드   \n",
    "\n",
    "### @staticmethod 와 @classmethod 두가지가 있다."
   ]
  },
  {
   "cell_type": "code",
   "execution_count": 77,
   "metadata": {},
   "outputs": [],
   "source": [
    "class Test:\n",
    "    num = 100\n",
    "    x = 10\n",
    "    y = 11 \n",
    "    \n",
    "    @staticmethod\n",
    "    def add(x, y):\n",
    "        return x+y\n",
    "    \n",
    "        \n",
    "        "
   ]
  },
  {
   "cell_type": "code",
   "execution_count": 71,
   "metadata": {},
   "outputs": [
    {
     "name": "stdout",
     "output_type": "stream",
     "text": [
      "100\n",
      "30\n"
     ]
    }
   ],
   "source": [
    "print(Test.num)\n",
    "print(Test.add(10,20))"
   ]
  },
  {
   "cell_type": "code",
   "execution_count": 75,
   "metadata": {},
   "outputs": [],
   "source": [
    "class Test2:\n",
    "    num = 100\n",
    "    \n",
    "    @classmethod\n",
    "    def add(cls, x, y): #classmethod는 cls가 앞에 붙음 클래스를 가르킨다고 함.\n",
    "        return x + y\n",
    "    @classmethod\n",
    "    def prt(cls):\n",
    "        print('cls:{0}'.format(cls))\n",
    "        "
   ]
  },
  {
   "cell_type": "code",
   "execution_count": 76,
   "metadata": {},
   "outputs": [
    {
     "name": "stdout",
     "output_type": "stream",
     "text": [
      "100\n",
      "30\n",
      "cls:<class '__main__.Test2'>\n"
     ]
    }
   ],
   "source": [
    "print(Test2.num)\n",
    "print(Test2.add(10,20))\n",
    "Test2.prt()"
   ]
  },
  {
   "cell_type": "markdown",
   "metadata": {},
   "source": [
    "# 클래스 메서드 : 클래스 안에 있지만 일반 함수와 다를게 없는 메서드  \n",
    "## 클래스 인스턴스에서 호출이 가능"
   ]
  },
  {
   "cell_type": "code",
   "execution_count": 119,
   "metadata": {},
   "outputs": [],
   "source": [
    "class Person:\n",
    "    title = 'person'\n",
    "    def __init__(self):\n",
    "        self.data = self.title\n",
    "    @classmethod\n",
    "    def class_person(cls):\n",
    "        return cls()\n",
    "    @staticmethod\n",
    "    def static_person():\n",
    "        return Person()"
   ]
  },
  {
   "cell_type": "code",
   "execution_count": 114,
   "metadata": {},
   "outputs": [],
   "source": [
    "class Student(Person):\n",
    "    title = 'student'\n",
    "    "
   ]
  },
  {
   "cell_type": "code",
   "execution_count": 115,
   "metadata": {},
   "outputs": [],
   "source": [
    "p1 = Student.class_person()"
   ]
  },
  {
   "cell_type": "code",
   "execution_count": 116,
   "metadata": {},
   "outputs": [],
   "source": [
    "p2= Student.static_person()"
   ]
  },
  {
   "cell_type": "code",
   "execution_count": 117,
   "metadata": {},
   "outputs": [
    {
     "name": "stdout",
     "output_type": "stream",
     "text": [
      "<__main__.Student object at 0x000001BE99D1A5E0>\n",
      "<__main__.Person object at 0x000001BE99F24D90>\n"
     ]
    }
   ],
   "source": [
    "print(p1)\n",
    "print(p2)"
   ]
  },
  {
   "cell_type": "code",
   "execution_count": 118,
   "metadata": {},
   "outputs": [
    {
     "name": "stdout",
     "output_type": "stream",
     "text": [
      "student\n",
      "person\n"
     ]
    }
   ],
   "source": [
    "print(p1.title)\n",
    "print(p2.title)"
   ]
  },
  {
   "cell_type": "markdown",
   "metadata": {},
   "source": [
    "## 추상클래스 : 객체 생성을 안할려는 것"
   ]
  },
  {
   "cell_type": "code",
   "execution_count": 126,
   "metadata": {},
   "outputs": [],
   "source": [
    "from abc import *\n",
    "class Animal(metaclass = ABCMeta): #추상클래스\n",
    "    @abstractclassmethod #추상메서드 생성 -> 객체 생성 못함\n",
    "    def sound(self):\n",
    "        pass   "
   ]
  },
  {
   "cell_type": "code",
   "execution_count": 132,
   "metadata": {},
   "outputs": [],
   "source": [
    "class Dog(Animal):\n",
    "    def sound(self): #오버 라이딩\n",
    "        print('멍멍')\n",
    "    def walk(self):\n",
    "        print('걷습니다')"
   ]
  },
  {
   "cell_type": "code",
   "execution_count": 133,
   "metadata": {},
   "outputs": [],
   "source": [
    "d1 = Dog()"
   ]
  },
  {
   "cell_type": "code",
   "execution_count": 134,
   "metadata": {},
   "outputs": [
    {
     "name": "stdout",
     "output_type": "stream",
     "text": [
      "멍멍\n",
      "걷습니다\n"
     ]
    }
   ],
   "source": [
    "d1.sound()\n",
    "d1.walk()"
   ]
  },
  {
   "cell_type": "code",
   "execution_count": 25,
   "metadata": {},
   "outputs": [],
   "source": [
    "class Complex:\n",
    "    def __init__(self, kor=10, eng=0):\n",
    "        self.kor = kor\n",
    "        self.eng = eng\n",
    "    def __str__(self):\n",
    "        return \"kor : {0}, eng: {1}\".format(self.kor, self.eng)\n",
    "    def __add__(self, other):\n",
    "        a = self.kor + other.kor\n",
    "        b = self.eng + other.eng\n",
    "        return Complex(a, b)"
   ]
  },
  {
   "cell_type": "code",
   "execution_count": 32,
   "metadata": {},
   "outputs": [
    {
     "name": "stdout",
     "output_type": "stream",
     "text": [
      "kor : 10, eng: 20\n",
      "kor : 10, eng: 0\n",
      "kor : 20, eng: 20\n",
      "kor : 20, eng: 20\n",
      "kor : 20, eng: 20\n"
     ]
    }
   ],
   "source": [
    "t1= Complex(10, 20)\n",
    "t2 = Complex(10)\n",
    "print(t1)\n",
    "print(t2)\n",
    "print(t1 + t2)\n",
    "\n",
    "a = t1 + t2\n",
    "print(a)\n",
    "      \n",
    "a2 = t1.__add__(t2)\n",
    "print(a2)\n"
   ]
  },
  {
   "cell_type": "code",
   "execution_count": null,
   "metadata": {},
   "outputs": [],
   "source": []
  }
 ],
 "metadata": {
  "kernelspec": {
   "display_name": "Python 3",
   "language": "python",
   "name": "python3"
  },
  "language_info": {
   "codemirror_mode": {
    "name": "ipython",
    "version": 3
   },
   "file_extension": ".py",
   "mimetype": "text/x-python",
   "name": "python",
   "nbconvert_exporter": "python",
   "pygments_lexer": "ipython3",
   "version": "3.8.5"
  }
 },
 "nbformat": 4,
 "nbformat_minor": 4
}
