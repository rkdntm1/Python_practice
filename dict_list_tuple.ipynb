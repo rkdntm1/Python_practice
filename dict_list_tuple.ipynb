{
 "cells": [
  {
   "cell_type": "markdown",
   "metadata": {},
   "source": [
    "# tuple : read only"
   ]
  },
  {
   "cell_type": "code",
   "execution_count": 2,
   "metadata": {},
   "outputs": [
    {
     "name": "stdout",
     "output_type": "stream",
     "text": [
      "10\n",
      "20\n"
     ]
    }
   ],
   "source": [
    "a,b =(10,20)\n",
    "print(a)\n",
    "print(b)"
   ]
  },
  {
   "cell_type": "code",
   "execution_count": 6,
   "metadata": {},
   "outputs": [
    {
     "name": "stdout",
     "output_type": "stream",
     "text": [
      "a:100,b:200\n",
      "a:200,b:100\n"
     ]
    }
   ],
   "source": [
    "a, b = 100, 200\n",
    "print('a:{0},b:{1}'.format(a,b))\n",
    "b,a = a,b\n",
    "print('a:{0},b:{1}'.format(a,b))"
   ]
  },
  {
   "cell_type": "code",
   "execution_count": 7,
   "metadata": {},
   "outputs": [
    {
     "name": "stdout",
     "output_type": "stream",
     "text": [
      "<class 'tuple'>\n"
     ]
    }
   ],
   "source": [
    "test = (10,20,30,40)\n",
    "print(type(test))"
   ]
  },
  {
   "cell_type": "code",
   "execution_count": 9,
   "metadata": {},
   "outputs": [
    {
     "ename": "TypeError",
     "evalue": "'tuple' object does not support item assignment",
     "output_type": "error",
     "traceback": [
      "\u001b[1;31m---------------------------------------------------------------------------\u001b[0m",
      "\u001b[1;31mTypeError\u001b[0m                                 Traceback (most recent call last)",
      "\u001b[1;32m<ipython-input-9-6240f34e1620>\u001b[0m in \u001b[0;36m<module>\u001b[1;34m\u001b[0m\n\u001b[1;32m----> 1\u001b[1;33m \u001b[0mtest\u001b[0m\u001b[1;33m[\u001b[0m\u001b[1;36m0\u001b[0m\u001b[1;33m]\u001b[0m \u001b[1;33m=\u001b[0m \u001b[1;36m10\u001b[0m \u001b[1;31m#'tuple' object does not support item assignment\u001b[0m\u001b[1;33m\u001b[0m\u001b[1;33m\u001b[0m\u001b[0m\n\u001b[0m\u001b[0;32m      2\u001b[0m \u001b[1;31m#튜플은 값을 변경하지 못함\u001b[0m\u001b[1;33m\u001b[0m\u001b[1;33m\u001b[0m\u001b[1;33m\u001b[0m\u001b[0m\n",
      "\u001b[1;31mTypeError\u001b[0m: 'tuple' object does not support item assignment"
     ]
    }
   ],
   "source": [
    "test[0] = 10 #'tuple' object does not support item assignment\n",
    "#튜플은 값을 변경하지 못함"
   ]
  },
  {
   "cell_type": "code",
   "execution_count": 16,
   "metadata": {},
   "outputs": [
    {
     "name": "stdout",
     "output_type": "stream",
     "text": [
      "[100, 20, 30, 40]\n",
      "[100, 20, 30, 40]\n"
     ]
    }
   ],
   "source": [
    "x=[10,20,30,40]\n",
    "y = x #얕은복사 \n",
    "x[0] = 100\n",
    "print(x)\n",
    "print(y)"
   ]
  },
  {
   "cell_type": "code",
   "execution_count": 17,
   "metadata": {},
   "outputs": [
    {
     "name": "stdout",
     "output_type": "stream",
     "text": [
      "[100, 20, 30, 40]\n",
      "[10, 20, 30, 40]\n"
     ]
    }
   ],
   "source": [
    "x=[10,20,30,40]\n",
    "y=x[:] #새로운 메모리 할당 #깊은 복사\n",
    "x[0]=100\n",
    "print(x)\n",
    "print(y)"
   ]
  },
  {
   "cell_type": "markdown",
   "metadata": {},
   "source": [
    "# 딕셔너리"
   ]
  },
  {
   "cell_type": "code",
   "execution_count": 53,
   "metadata": {},
   "outputs": [
    {
     "data": {
      "text/plain": [
       "dict"
      ]
     },
     "execution_count": 53,
     "metadata": {},
     "output_type": "execute_result"
    }
   ],
   "source": [
    "student={'name':'hong','age':10, 'addr':'seoul'}\n",
    "\n",
    "type(student)"
   ]
  },
  {
   "cell_type": "code",
   "execution_count": 54,
   "metadata": {},
   "outputs": [
    {
     "name": "stdout",
     "output_type": "stream",
     "text": [
      "hong\n"
     ]
    }
   ],
   "source": [
    "print(student['name'])"
   ]
  },
  {
   "cell_type": "code",
   "execution_count": 55,
   "metadata": {},
   "outputs": [
    {
     "name": "stdout",
     "output_type": "stream",
     "text": [
      "{'name': 'hong', 'age': 20, 'addr': 'seoul'}\n"
     ]
    }
   ],
   "source": [
    "student['age']=20\n",
    "print(student)"
   ]
  },
  {
   "cell_type": "code",
   "execution_count": 56,
   "metadata": {},
   "outputs": [
    {
     "name": "stdout",
     "output_type": "stream",
     "text": [
      "{'name': 'hong', 'age': 20, 'addr': 'seoul', '점수': 100}\n"
     ]
    }
   ],
   "source": [
    "student['점수']=100 #추가\n",
    "print(student)"
   ]
  },
  {
   "cell_type": "code",
   "execution_count": 57,
   "metadata": {},
   "outputs": [],
   "source": [
    "del student['age'] #삭제"
   ]
  },
  {
   "cell_type": "code",
   "execution_count": 58,
   "metadata": {},
   "outputs": [
    {
     "name": "stdout",
     "output_type": "stream",
     "text": [
      "{'name': 'hong', 'addr': 'seoul', '점수': 100}\n"
     ]
    }
   ],
   "source": [
    "print(student)"
   ]
  },
  {
   "cell_type": "code",
   "execution_count": 59,
   "metadata": {},
   "outputs": [
    {
     "data": {
      "text/plain": [
       "['__class__',\n",
       " '__contains__',\n",
       " '__delattr__',\n",
       " '__delitem__',\n",
       " '__dir__',\n",
       " '__doc__',\n",
       " '__eq__',\n",
       " '__format__',\n",
       " '__ge__',\n",
       " '__getattribute__',\n",
       " '__getitem__',\n",
       " '__gt__',\n",
       " '__hash__',\n",
       " '__init__',\n",
       " '__init_subclass__',\n",
       " '__iter__',\n",
       " '__le__',\n",
       " '__len__',\n",
       " '__lt__',\n",
       " '__ne__',\n",
       " '__new__',\n",
       " '__reduce__',\n",
       " '__reduce_ex__',\n",
       " '__repr__',\n",
       " '__reversed__',\n",
       " '__setattr__',\n",
       " '__setitem__',\n",
       " '__sizeof__',\n",
       " '__str__',\n",
       " '__subclasshook__',\n",
       " 'clear',\n",
       " 'copy',\n",
       " 'fromkeys',\n",
       " 'get',\n",
       " 'items',\n",
       " 'keys',\n",
       " 'pop',\n",
       " 'popitem',\n",
       " 'setdefault',\n",
       " 'update',\n",
       " 'values']"
      ]
     },
     "execution_count": 59,
     "metadata": {},
     "output_type": "execute_result"
    }
   ],
   "source": [
    "dir(dict)"
   ]
  },
  {
   "cell_type": "code",
   "execution_count": 60,
   "metadata": {},
   "outputs": [
    {
     "name": "stdout",
     "output_type": "stream",
     "text": [
      "Help on method_descriptor:\n",
      "\n",
      "clear(...)\n",
      "    D.clear() -> None.  Remove all items from D.\n",
      "\n"
     ]
    }
   ],
   "source": [
    "help(dict.clear)"
   ]
  },
  {
   "cell_type": "code",
   "execution_count": 52,
   "metadata": {},
   "outputs": [
    {
     "name": "stdout",
     "output_type": "stream",
     "text": [
      "{}\n"
     ]
    }
   ],
   "source": [
    "student.clear()\n",
    "print(student)"
   ]
  },
  {
   "cell_type": "code",
   "execution_count": 62,
   "metadata": {},
   "outputs": [
    {
     "data": {
      "text/plain": [
       "{'name': 'hong', 'addr': 'seoul', '점수': 100}"
      ]
     },
     "execution_count": 62,
     "metadata": {},
     "output_type": "execute_result"
    }
   ],
   "source": [
    "student"
   ]
  },
  {
   "cell_type": "code",
   "execution_count": 63,
   "metadata": {},
   "outputs": [
    {
     "name": "stdout",
     "output_type": "stream",
     "text": [
      "Help on method_descriptor:\n",
      "\n",
      "copy(...)\n",
      "    D.copy() -> a shallow copy of D\n",
      "\n"
     ]
    }
   ],
   "source": [
    "help(dict.copy)"
   ]
  },
  {
   "cell_type": "code",
   "execution_count": 65,
   "metadata": {},
   "outputs": [
    {
     "name": "stdout",
     "output_type": "stream",
     "text": [
      "{'name': 'hong', 'addr': 'seoul', '점수': 100}\n",
      "{'name': 'hong', 'addr': 'seoul', '점수': 100}\n"
     ]
    }
   ],
   "source": [
    "newcopy = student.copy()\n",
    "print(newcopy)\n",
    "print(student)"
   ]
  },
  {
   "cell_type": "code",
   "execution_count": 68,
   "metadata": {},
   "outputs": [
    {
     "data": {
      "text/plain": [
       "True"
      ]
     },
     "execution_count": 68,
     "metadata": {},
     "output_type": "execute_result"
    }
   ],
   "source": [
    "newcopy == student"
   ]
  },
  {
   "cell_type": "code",
   "execution_count": 70,
   "metadata": {},
   "outputs": [
    {
     "data": {
      "text/plain": [
       "False"
      ]
     },
     "execution_count": 70,
     "metadata": {},
     "output_type": "execute_result"
    }
   ],
   "source": [
    "newcopy is student #깊은복사"
   ]
  },
  {
   "cell_type": "code",
   "execution_count": 71,
   "metadata": {},
   "outputs": [
    {
     "name": "stdout",
     "output_type": "stream",
     "text": [
      "Help on method_descriptor:\n",
      "\n",
      "get(self, key, default=None, /)\n",
      "    Return the value for key if key is in the dictionary, else default.\n",
      "\n"
     ]
    }
   ],
   "source": [
    "help(dict.get)"
   ]
  },
  {
   "cell_type": "code",
   "execution_count": 72,
   "metadata": {},
   "outputs": [
    {
     "data": {
      "text/plain": [
       "'hong'"
      ]
     },
     "execution_count": 72,
     "metadata": {},
     "output_type": "execute_result"
    }
   ],
   "source": [
    "student.get('name')"
   ]
  },
  {
   "cell_type": "code",
   "execution_count": 75,
   "metadata": {},
   "outputs": [],
   "source": [
    "student.get('test') #오류가 안뜸"
   ]
  },
  {
   "cell_type": "code",
   "execution_count": 76,
   "metadata": {},
   "outputs": [
    {
     "ename": "KeyError",
     "evalue": "'test'",
     "output_type": "error",
     "traceback": [
      "\u001b[1;31m---------------------------------------------------------------------------\u001b[0m",
      "\u001b[1;31mKeyError\u001b[0m                                  Traceback (most recent call last)",
      "\u001b[1;32m<ipython-input-76-5470a5f54d13>\u001b[0m in \u001b[0;36m<module>\u001b[1;34m\u001b[0m\n\u001b[1;32m----> 1\u001b[1;33m \u001b[0mstudent\u001b[0m\u001b[1;33m[\u001b[0m\u001b[1;34m'test'\u001b[0m\u001b[1;33m]\u001b[0m\u001b[1;33m\u001b[0m\u001b[1;33m\u001b[0m\u001b[0m\n\u001b[0m",
      "\u001b[1;31mKeyError\u001b[0m: 'test'"
     ]
    }
   ],
   "source": [
    "student['test'] #오류가 뜸 차이"
   ]
  },
  {
   "cell_type": "code",
   "execution_count": 81,
   "metadata": {},
   "outputs": [
    {
     "name": "stdout",
     "output_type": "stream",
     "text": [
      "{'h': 1, 'e': 1, 'l': 3, 'o': 2, ' ': 1, 'w': 1, 'r': 1, 'd': 1}\n"
     ]
    }
   ],
   "source": [
    "#알파벳 갯수 찾기\n",
    "word=\"hello world\"\n",
    "d=dict()\n",
    "\n",
    "\n",
    "for data in word:\n",
    "    #print(data,end=' ')\n",
    "    if data not in d:\n",
    "        d[data]=1\n",
    "    else:\n",
    "        d[data] +=1\n",
    "print(d)"
   ]
  },
  {
   "cell_type": "code",
   "execution_count": 124,
   "metadata": {},
   "outputs": [
    {
     "name": "stdout",
     "output_type": "stream",
     "text": [
      "{'a1': 40, 'a2': 30}\n",
      "<class 'dict'>\n",
      "a1\n",
      "<class 'str'>\n",
      "a2\n",
      "<class 'str'>\n",
      "{'a1': 50, 'a3': 3, 'a4': 10}\n",
      "<class 'dict'>\n",
      "a1\n",
      "<class 'str'>\n",
      "a3\n",
      "<class 'str'>\n",
      "a4\n",
      "<class 'str'>\n",
      "{'a1': 3, 'a3': 5}\n",
      "<class 'dict'>\n",
      "a1\n",
      "<class 'str'>\n",
      "a3\n",
      "<class 'str'>\n",
      "{'a1': 93, 'a2': 30, 'a3': 8, 'a4': 10}\n"
     ]
    }
   ],
   "source": [
    "items = [{\"a1\":40,\"a2\":30},{\"a1\":50,\"a3\":3, \"a4\":10},{\"a1\":3,\"a3\":5}] #리스트\n",
    "itemdict = {} #딕셔너리 형태로 값을 받을 변수 지정\n",
    "\n",
    "for item in items: # items(리스트) 안의 데이터 값을 출력 -> 딕셔너리형태\n",
    "    print(item)\n",
    "    print(type(item))\n",
    "    for index in item: # 딕셔너리(item) 안의 key 값을 가져오는 for문작성\n",
    "        print(index)\n",
    "        print(type(index))\n",
    "        if index not in itemdict: #key 값이 중복된 것이 아니면\n",
    "            itemdict[index] = item[index] # key 의 Value값을 그냥 넣어줌\n",
    "        else: #key 값이 중복되면\n",
    "            itemdict[index] +=item[index] # key의 value값을 합해줌\n",
    "print(itemdict) #itemdict 출력\n",
    "    "
   ]
  },
  {
   "cell_type": "code",
   "execution_count": 97,
   "metadata": {},
   "outputs": [
    {
     "name": "stdout",
     "output_type": "stream",
     "text": [
      "Help on method_descriptor:\n",
      "\n",
      "items(...)\n",
      "    D.items() -> a set-like object providing a view on D's items\n",
      "\n"
     ]
    }
   ],
   "source": [
    "help(dict.items)"
   ]
  },
  {
   "cell_type": "code",
   "execution_count": 115,
   "metadata": {},
   "outputs": [
    {
     "name": "stdout",
     "output_type": "stream",
     "text": [
      "{'a1': 93, 'a2': 30, 'a3': 8, 'a4': 10}\n"
     ]
    }
   ],
   "source": [
    "print(itemdict)"
   ]
  },
  {
   "cell_type": "code",
   "execution_count": 116,
   "metadata": {},
   "outputs": [
    {
     "data": {
      "text/plain": [
       "dict_items([('a1', 93), ('a2', 30), ('a3', 8), ('a4', 10)])"
      ]
     },
     "execution_count": 116,
     "metadata": {},
     "output_type": "execute_result"
    }
   ],
   "source": [
    "itemdict.items()"
   ]
  },
  {
   "cell_type": "code",
   "execution_count": 117,
   "metadata": {},
   "outputs": [
    {
     "name": "stdout",
     "output_type": "stream",
     "text": [
      "dict_keys(['a1', 'a2', 'a3', 'a4'])\n"
     ]
    }
   ],
   "source": [
    "a=itemdict.keys()\n",
    "print(a)"
   ]
  },
  {
   "cell_type": "code",
   "execution_count": 118,
   "metadata": {},
   "outputs": [
    {
     "name": "stdout",
     "output_type": "stream",
     "text": [
      "Help on method_descriptor:\n",
      "\n",
      "pop(...)\n",
      "    D.pop(k[,d]) -> v, remove specified key and return the corresponding value.\n",
      "    If key is not found, d is returned if given, otherwise KeyError is raised\n",
      "\n"
     ]
    }
   ],
   "source": [
    "help(dict.pop)"
   ]
  },
  {
   "cell_type": "code",
   "execution_count": 119,
   "metadata": {},
   "outputs": [
    {
     "data": {
      "text/plain": [
       "100"
      ]
     },
     "execution_count": 119,
     "metadata": {},
     "output_type": "execute_result"
    }
   ],
   "source": [
    "data = {'a1':100, 'a2':120, 'a3':100}\n",
    "\n",
    "data.pop('a1')"
   ]
  },
  {
   "cell_type": "code",
   "execution_count": 120,
   "metadata": {},
   "outputs": [
    {
     "data": {
      "text/plain": [
       "{'a2': 120, 'a3': 100}"
      ]
     },
     "execution_count": 120,
     "metadata": {},
     "output_type": "execute_result"
    }
   ],
   "source": [
    "data"
   ]
  },
  {
   "cell_type": "code",
   "execution_count": 121,
   "metadata": {},
   "outputs": [
    {
     "data": {
      "text/plain": [
       "'hello'"
      ]
     },
     "execution_count": 121,
     "metadata": {},
     "output_type": "execute_result"
    }
   ],
   "source": [
    "data.pop('t1','hello')"
   ]
  },
  {
   "cell_type": "markdown",
   "metadata": {},
   "source": []
  },
  {
   "cell_type": "code",
   "execution_count": 126,
   "metadata": {},
   "outputs": [
    {
     "data": {
      "text/plain": [
       "('a4', 4)"
      ]
     },
     "execution_count": 126,
     "metadata": {},
     "output_type": "execute_result"
    }
   ],
   "source": [
    "item = {'a':1, 'a2':2, 'a3':3, 'a4':4}\n",
    "item.popitem()"
   ]
  },
  {
   "cell_type": "code",
   "execution_count": 127,
   "metadata": {},
   "outputs": [
    {
     "name": "stdout",
     "output_type": "stream",
     "text": [
      "{'a': 1, 'a2': 2, 'a3': 3}\n"
     ]
    }
   ],
   "source": [
    "print(item)"
   ]
  },
  {
   "cell_type": "code",
   "execution_count": 129,
   "metadata": {},
   "outputs": [
    {
     "data": {
      "text/plain": [
       "dict_values([1, 2, 3])"
      ]
     },
     "execution_count": 129,
     "metadata": {},
     "output_type": "execute_result"
    }
   ],
   "source": [
    "data={'a':1,'a2':2,'a3':3}\n",
    "data.values()"
   ]
  },
  {
   "cell_type": "markdown",
   "metadata": {},
   "source": [
    "# range(start, end , step): start:시작 ,end:끝값(포함x), step:증감값\n",
    "start가 생략되면 기본값 0\n",
    "step 생략되면 기본값 1\n"
   ]
  },
  {
   "cell_type": "code",
   "execution_count": 147,
   "metadata": {},
   "outputs": [
    {
     "name": "stdout",
     "output_type": "stream",
     "text": [
      "1\n",
      "2\n",
      "3\n",
      "4\n"
     ]
    }
   ],
   "source": [
    "for index in range(1,5, 1):\n",
    "    print(index)"
   ]
  },
  {
   "cell_type": "code",
   "execution_count": 149,
   "metadata": {},
   "outputs": [
    {
     "name": "stdout",
     "output_type": "stream",
     "text": [
      "1234"
     ]
    }
   ],
   "source": [
    "for index in range(1, 5):\n",
    "    print(index, end='')"
   ]
  },
  {
   "cell_type": "code",
   "execution_count": 150,
   "metadata": {},
   "outputs": [
    {
     "name": "stdout",
     "output_type": "stream",
     "text": [
      "01234"
     ]
    }
   ],
   "source": [
    "for index in range(5):\n",
    "    print(index, end='')"
   ]
  },
  {
   "cell_type": "code",
   "execution_count": 155,
   "metadata": {},
   "outputs": [
    {
     "name": "stdout",
     "output_type": "stream",
     "text": [
      "9\n",
      "7\n",
      "5\n",
      "3\n",
      "1\n"
     ]
    }
   ],
   "source": [
    "for i in reversed(range(1,10,2)):\n",
    "    print(i)"
   ]
  },
  {
   "cell_type": "code",
   "execution_count": 158,
   "metadata": {},
   "outputs": [
    {
     "name": "stdout",
     "output_type": "stream",
     "text": [
      "<class 'enumerate'>\n",
      "['hong', 'kim', 'lee', 'park']\n"
     ]
    }
   ],
   "source": [
    "a=['hong','kim','lee','park']\n",
    "b=enumerate(a)\n",
    "print(type(b))\n",
    "print(a)"
   ]
  },
  {
   "cell_type": "code",
   "execution_count": 160,
   "metadata": {},
   "outputs": [
    {
     "name": "stdout",
     "output_type": "stream",
     "text": [
      "0 hong\n",
      "1 kim\n",
      "2 lee\n",
      "3 park\n"
     ]
    }
   ],
   "source": [
    "for i, j in b:\n",
    "    print(i, j)"
   ]
  },
  {
   "cell_type": "code",
   "execution_count": 170,
   "metadata": {},
   "outputs": [
    {
     "name": "stdout",
     "output_type": "stream",
     "text": [
      "<zip object at 0x0000025BEA219500>\n",
      "-=----=================\n",
      "hong 100\n",
      "lee 90\n",
      "park 70\n",
      "kang 80\n"
     ]
    }
   ],
   "source": [
    "name =['hong','lee','park','kang', 'han'] #매칭안되는 han 값은 나오지 않음\n",
    "age=[100,90,70,80]\n",
    "data = zip(name, age)\n",
    "print(data)\n",
    "#for i in data:\n",
    " #   print(i)\n",
    "print(\"-=----=================\")\n",
    "for key, value in data:\n",
    "    print(key, value)"
   ]
  },
  {
   "cell_type": "code",
   "execution_count": 174,
   "metadata": {},
   "outputs": [
    {
     "name": "stdout",
     "output_type": "stream",
     "text": [
      "10\n",
      "20\n",
      "40\n"
     ]
    }
   ],
   "source": [
    "#언팩킹\n",
    "a, b,c=[10,20,40]\n",
    "print(a)\n",
    "print(b)\n",
    "print(c)"
   ]
  },
  {
   "cell_type": "code",
   "execution_count": 176,
   "metadata": {},
   "outputs": [
    {
     "name": "stdout",
     "output_type": "stream",
     "text": [
      "(10, 20, 30)\n"
     ]
    }
   ],
   "source": [
    "#팩킹\n",
    "a=(10,20,30)\n",
    "t1, t2 ,t3 = a\n",
    "print(a)"
   ]
  },
  {
   "cell_type": "code",
   "execution_count": 177,
   "metadata": {},
   "outputs": [
    {
     "name": "stdout",
     "output_type": "stream",
     "text": [
      "10\n",
      "20\n",
      "30\n"
     ]
    }
   ],
   "source": [
    "print(t1)\n",
    "print(t2)\n",
    "print(t3)"
   ]
  },
  {
   "cell_type": "code",
   "execution_count": 189,
   "metadata": {},
   "outputs": [],
   "source": [
    "def fn():\n",
    "    return 1, 2"
   ]
  },
  {
   "cell_type": "code",
   "execution_count": 191,
   "metadata": {},
   "outputs": [
    {
     "name": "stdout",
     "output_type": "stream",
     "text": [
      "1 2\n"
     ]
    }
   ],
   "source": [
    "a1, a2 = fn()\n",
    "print(a1, a2)"
   ]
  },
  {
   "cell_type": "markdown",
   "metadata": {},
   "source": [
    "# 과제\n",
    "Q1. 단어의 빈도수를 계산하시오 \n",
    "a=\"딸기 포도 복숭아 딸기 사과 배 포도 딸기 바나나\";\n",
    "처리결과\n",
    "{'딸기': 3, '포도': 2, '복숭아': 1, '사과': 1, '배': 1, '바나나': 1}\n",
    "\n",
    "Q2. fruit_price={\"사과\":3000, \"딸기\":1000, \"바나나\":2500,\"복숭아\":40000}\n",
    "자료에서 high_price와 low_price란 이름의 list를 만들고\n",
    "가격이 3000이상인 과일은 high_price에 그외 과일은 low_price에 넣어서\n",
    "출력하시오.\n"
   ]
  },
  {
   "cell_type": "code",
   "execution_count": 2,
   "metadata": {},
   "outputs": [
    {
     "name": "stdout",
     "output_type": "stream",
     "text": [
      "{'사과': 3000, '딸기': 1000, '바나나': 2500, '복숭아': 40000}\n",
      "===============================================================\n",
      "가격이 3000 이상인 목록(high_price)--------->사과,복숭아\n",
      "그 외의 과일 목록(low_price)------------>딸기,바나나\n"
     ]
    }
   ],
   "source": [
    "#Q2\n",
    "fruit_price={\"사과\":3000, \"딸기\":1000, \"바나나\":2500,\"복숭아\":40000}\n",
    "high_price = []\n",
    "low_price = []\n",
    "\n",
    "for i in fruit_price: #딕셔너리에 있는 자료를 뽑음    \n",
    "    if fruit_price[i] >= 3000:   #그 자료의 value 값이 3000이상이면 \n",
    "        high_price.append(i)    #high_price 리스트에 append 시킴\n",
    "    else:\n",
    "        low_price.append(i) #아니면 low_price 리스트에 append \n",
    "print(fruit_price)\n",
    "print(\"===============================================================\")\n",
    "print(\"가격이 3000 이상인 목록(high_price)--------->{0}\".format(\",\".join(high_price))) #출력\n",
    "print(\"그 외의 과일 목록(low_price)------------>{0}\".format(\",\".join(low_price)))\n",
    "        \n"
   ]
  },
  {
   "cell_type": "code",
   "execution_count": 24,
   "metadata": {
    "scrolled": true
   },
   "outputs": [
    {
     "name": "stdout",
     "output_type": "stream",
     "text": [
      "['딸기', '포도', '복숭아', '딸기', '사과', '배', '포도', '딸기', '바나나']\n",
      "<class 'list'>\n",
      "{'딸기': 3, '포도': 2, '복숭아': 1, '사과': 1, '배': 1, '바나나': 1}\n"
     ]
    }
   ],
   "source": [
    "#Q1\n",
    "a=\"딸기 포도 복숭아 딸기 사과 배 포도 딸기 바나나\"\n",
    "\n",
    "b= a.split() #split으로 공백으로 쪼개서 a를 리스트형태로 만듬 이것을 변수 b로 지정\n",
    "print(b)\n",
    "print(type(b))\n",
    "\n",
    "d=dict() # d라는 리스트 형태를 하나 만들어둠\n",
    "for i in b: \n",
    "    if i not in d:\n",
    "        d[i] = 1 \n",
    "    else:\n",
    "        d[i] += 1\n",
    "print(d)\n",
    "\n"
   ]
  },
  {
   "cell_type": "code",
   "execution_count": 13,
   "metadata": {},
   "outputs": [
    {
     "name": "stdout",
     "output_type": "stream",
     "text": [
      "10대: 홍길동\n",
      "20대: 박지성, 김밥\n",
      "30대: 구혜선\n",
      "40대: 이영표\n"
     ]
    }
   ],
   "source": [
    "#과제\n",
    "'''\n",
    "data = [{'name':hong, age =10}],{'name':'park', age:24},{'name':'kim'}, .. . 5개\n",
    "=> 10대 : 홍길동, 홍길순\n",
    "   20대 : 김하나\n",
    "\n",
    "'''\n",
    "data = [{'name':'홍길동', 'age':10}, {'name':'박지성','age':22}, {'name':'김밥', 'age':26},\\\n",
    "       {'name':'이영표', 'age':47}, {'name':'구혜선', 'age':33}]\n",
    "\n",
    "\n",
    "namelst=[]\n",
    "agelst=[]\n",
    "dic = []\n",
    "te = [] #10대\n",
    "tw = [] #20대\n",
    "th = [] #30대\n",
    "fo = [] #40대\n",
    "for i in data: #리스트 데이터에서 딕셔너리 추출 \n",
    "    #print(i)\n",
    "    #print(type(i))    \n",
    "    for k in i: #각 딕셔너리 에서 key 값 추출\n",
    "        if k == 'name': # key = 'name'\n",
    "            namelst.append(i[k]) # 각 name의 value 값들을 list로 만들어줌 \n",
    "        elif k == 'age': # KEY = 'age'\n",
    "            agelst.append(i[k]) # 각 name의 age 값들을 list로 만들어줌 \n",
    "#print(namelst)\n",
    "#print(agelst)\n",
    "dic1 = dict(zip(namelst, agelst)) #zip을 이용해 namelst와 agelst값들을 매칭시켜 딕셔너리 만들기 \n",
    "#print(dic1)\n",
    "for index in dic1: #dic1의 key 값들을 가져오기\n",
    "    if 10<=dic1[index]<20:\n",
    "        te.append(index)  # 10대 리스트 \n",
    "    elif 20<=dic1[index]<30:\n",
    "        tw.append(index)  # 20대 리스트\n",
    "    elif 30<=dic1[index]<40:\n",
    "        th.append(index)  # 30대 리스트\n",
    "    elif 40<=dic1[index]<50: \n",
    "        fo.append(index)  # 40대 리스트\n",
    "            \n",
    "print(\"10대: \"+ \", \".join(te))\n",
    "print(\"20대: \" + \", \".join(tw))                \n",
    "print(\"30대: \"+\", \".join(th))\n",
    "print(\"40대: \" + \", \".join(fo))\n",
    "    \n",
    "    \n",
    "        \n",
    "    \n"
   ]
  },
  {
   "cell_type": "code",
   "execution_count": 5,
   "metadata": {},
   "outputs": [
    {
     "name": "stdout",
     "output_type": "stream",
     "text": [
      "{'0대': [], '10대': [], '20대': [], '30대': [], 'other': [], '40대': []}\n",
      "{'0대': [], '10대': ['홍길동', '홍길동', '홍길동', '홍길동', '홍길동'], '20대': ['박지성', '김밥', '박지성', '김밥', '박지성', '김밥', '박지성', '김밥', '박지성', '김밥'], '30대': ['구혜선', '구혜선', '구혜선', '구혜선', '구혜선'], 'other': ['이영표', '이영표', '이영표', '이영표', '이영표'], '40대': []}\n"
     ]
    }
   ],
   "source": [
    "data = [{'name':'홍길동', 'age':10}, {'name':'박지성','age':22}, {'name':'김밥', 'age':26},\\\n",
    "       {'name':'이영표', 'age':47}, {'name':'구혜선', 'age':33}]\n",
    "\n",
    "info = {}\n",
    "\n",
    "for index in range(0,50,10): #10 20 30 40 ... \n",
    "    if index == 40:\n",
    "        info['other']= []\n",
    "    info[str(index) + '대'] = []\n",
    "print(info)\n",
    "\n",
    "for d in data:\n",
    "    #print(d)\n",
    "    for i in data:\n",
    "        if i['age'] // 10 == 0:\n",
    "            info['0대'].append(i['name'])\n",
    "        elif i['age'] // 10 == 1:\n",
    "            info['10대'].append(i['name'])\n",
    "        elif i['age'] // 10 == 2:\n",
    "            info['20대'].append(i['name'])\n",
    "        elif i['age'] // 10 == 3:\n",
    "            info['30대'].append(i['name'])\n",
    "\n",
    "        else :\n",
    "            info['other'].append(i['name'])\n",
    "print(info)\n"
   ]
  },
  {
   "cell_type": "code",
   "execution_count": 4,
   "metadata": {},
   "outputs": [
    {
     "ename": "IndentationError",
     "evalue": "unexpected indent (<ipython-input-4-fcaec8205459>, line 5)",
     "output_type": "error",
     "traceback": [
      "\u001b[1;36m  File \u001b[1;32m\"<ipython-input-4-fcaec8205459>\"\u001b[1;36m, line \u001b[1;32m5\u001b[0m\n\u001b[1;33m    info['other'].append(i['name'])\u001b[0m\n\u001b[1;37m    ^\u001b[0m\n\u001b[1;31mIndentationError\u001b[0m\u001b[1;31m:\u001b[0m unexpected indent\n"
     ]
    }
   ],
   "source": [
    "for i in data:\n",
    "    if i['age'] // 10 >=6:\n",
    "        info['other'].append(i['name'])\n",
    "    info[str((i['age']//10)*10)+'대'].append(i['name'])\n",
    "                info['other'].append(i['name'])\n",
    "print(info)\n"
   ]
  },
  {
   "cell_type": "code",
   "execution_count": 68,
   "metadata": {},
   "outputs": [
    {
     "name": "stdout",
     "output_type": "stream",
     "text": [
      "hong,10\n",
      "\n",
      "kim,20\n",
      "\n",
      "park,30\n",
      "\n",
      "name: ['a1', 'a2', 'a3'\n",
      "age: [10, 20, 30\n"
     ]
    }
   ],
   "source": [
    "D = [{'name':'hong', 'age':10}, {'name':'kim', 'age':20}, {'name':'park','age':30}]\n",
    "E = {'name':['a1','a2','a3'],'age':[10,20,30]}\n",
    "\n",
    "ab = []\n",
    "\n",
    "for i in D:\n",
    "    print('{0},{1}'.format(i['name'],i['age']))        \n",
    "    print(\"\")\n",
    "\n",
    "for index in E:\n",
    "    print(\"{0}: {1}\".format(index, str(E[index])).strip('[]'))\n",
    "    \n",
    "\n",
    "        \n",
    "    \n",
    "        \n",
    "            \n",
    "            \n",
    "            "
   ]
  },
  {
   "cell_type": "code",
   "execution_count": null,
   "metadata": {},
   "outputs": [],
   "source": []
  }
 ],
 "metadata": {
  "kernelspec": {
   "display_name": "Python 3",
   "language": "python",
   "name": "python3"
  },
  "language_info": {
   "codemirror_mode": {
    "name": "ipython",
    "version": 3
   },
   "file_extension": ".py",
   "mimetype": "text/x-python",
   "name": "python",
   "nbconvert_exporter": "python",
   "pygments_lexer": "ipython3",
   "version": "3.8.5"
  }
 },
 "nbformat": 4,
 "nbformat_minor": 4
}
