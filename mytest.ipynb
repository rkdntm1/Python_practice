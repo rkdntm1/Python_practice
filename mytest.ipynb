{
 "cells": [
  {
   "cell_type": "code",
   "execution_count": 26,
   "metadata": {},
   "outputs": [],
   "source": [
    "data=[    \n",
    "    {'name':'hong','age':11}\n",
    "    ,{'name':'park','age':22}\n",
    "    ,{'name':'han','age':21}\n",
    "    ,{'name':'hong','age':5}\n",
    "    ,{'name':'jang','age':51}\n",
    "]"
   ]
  },
  {
   "cell_type": "code",
   "execution_count": 27,
   "metadata": {},
   "outputs": [
    {
     "name": "stdout",
     "output_type": "stream",
     "text": [
      "{'0대': [], '10대': [], '20대': [], '30대': [], '40대': [], '50대': [], 'other': []}\n"
     ]
    }
   ],
   "source": [
    "A= {}\n",
    "for index in range(0,70,10): # 세대 나누기 \n",
    "    if index > 50:\n",
    "        A['other']=[] # other 라는 특정 리스트 선언\n",
    "    else:\n",
    "        A[str(index)+'대']=[]\n",
    "print(A)"
   ]
  },
  {
   "cell_type": "code",
   "execution_count": 28,
   "metadata": {},
   "outputs": [
    {
     "name": "stdout",
     "output_type": "stream",
     "text": [
      "{'name': 'hong', 'age': 11}\n",
      "{'name': 'park', 'age': 22}\n",
      "{'name': 'han', 'age': 21}\n",
      "{'name': 'hong', 'age': 5}\n",
      "{'name': 'jang', 'age': 51}\n",
      "{'0대': ['hong'], '10대': ['hong'], '20대': ['park', 'han'], '30대': [], '40대': [], '50대': ['jang'], 'other': ['jang']}\n"
     ]
    }
   ],
   "source": [
    "\n",
    "for i in data:\n",
    "    print(i)\n",
    "    if i['age'] >= 40:\n",
    "        A['other'].append(i['name'])\n",
    "    A[str((i['age']//10)*10)+'대'].append(i['name'])\n",
    "print(A)\n",
    "        "
   ]
  },
  {
   "cell_type": "code",
   "execution_count": 1,
   "metadata": {},
   "outputs": [
    {
     "ename": "ModuleNotFoundError",
     "evalue": "No module named 'Sample'",
     "output_type": "error",
     "traceback": [
      "\u001b[1;31m---------------------------------------------------------------------------\u001b[0m",
      "\u001b[1;31mModuleNotFoundError\u001b[0m                       Traceback (most recent call last)",
      "\u001b[1;32m<ipython-input-1-dda09474d251>\u001b[0m in \u001b[0;36m<module>\u001b[1;34m\u001b[0m\n\u001b[1;32m----> 1\u001b[1;33m \u001b[1;32mimport\u001b[0m \u001b[0mSample\u001b[0m\u001b[1;33m\u001b[0m\u001b[1;33m\u001b[0m\u001b[0m\n\u001b[0m",
      "\u001b[1;31mModuleNotFoundError\u001b[0m: No module named 'Sample'"
     ]
    }
   ],
   "source": [
    "import "
   ]
  },
  {
   "cell_type": "code",
   "execution_count": 2,
   "metadata": {},
   "outputs": [
    {
     "name": "stdout",
     "output_type": "stream",
     "text": [
      "(<function <lambda> at 0x000002903A99DC10>, {'name': 'jang', 'age': 51})\n"
     ]
    }
   ],
   "source": [
    "data=[    \n",
    "    {'name':'hong','age':11}\n",
    "    ,{'name':'park','age':22}\n",
    "    ,{'name':'han','age':21}\n",
    "    ,{'name':'hong','age':5}\n",
    "    ,{'name':'jang','age':51}\n",
    "]\n",
    "\n",
    "for i in data:\n",
    "    result = lambda x: ok if i['age']>10 else no, i\n"
   ]
  }
 ],
 "metadata": {
  "kernelspec": {
   "display_name": "Python 3",
   "language": "python",
   "name": "python3"
  },
  "language_info": {
   "codemirror_mode": {
    "name": "ipython",
    "version": 3
   },
   "file_extension": ".py",
   "mimetype": "text/x-python",
   "name": "python",
   "nbconvert_exporter": "python",
   "pygments_lexer": "ipython3",
   "version": "3.8.5"
  }
 },
 "nbformat": 4,
 "nbformat_minor": 4
}
