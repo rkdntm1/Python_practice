{
 "cells": [
  {
   "cell_type": "code",
   "execution_count": 27,
   "metadata": {},
   "outputs": [],
   "source": [
    "#data 파일을 '#대' 로 나누어 출력하기\n",
    "data=[    \n",
    "    {'name':'hong','age':11}\n",
    "    ,{'name':'park','age':22}\n",
    "    ,{'name':'han','age':21}\n",
    "    ,{'name':'hong','age':5}\n",
    "    ,{'name':'jang','age':51}\n",
    "]"
   ]
  },
  {
   "cell_type": "code",
   "execution_count": 28,
   "metadata": {},
   "outputs": [
    {
     "name": "stdout",
     "output_type": "stream",
     "text": [
      "{'0대': [], '10대': [], '20대': [], '30대': [], '40대': [], '50대': [], 'other': []}\n"
     ]
    }
   ],
   "source": [
    "A= {}\n",
    "for index in range(0,70,10): # 세대 나누기 \n",
    "    if index > 50:\n",
    "        A['other']=[] # other 라는 특정 리스트 선언\n",
    "    else:\n",
    "        A[str(index)+'대']=[]\n",
    "print(A)"
   ]
  },
  {
   "cell_type": "code",
   "execution_count": 29,
   "metadata": {},
   "outputs": [
    {
     "name": "stdout",
     "output_type": "stream",
     "text": [
      "{'name': 'hong', 'age': 11}\n",
      "{'name': 'park', 'age': 22}\n",
      "{'name': 'han', 'age': 21}\n",
      "{'name': 'hong', 'age': 5}\n",
      "{'name': 'jang', 'age': 51}\n",
      "{'0대': ['hong'], '10대': ['hong'], '20대': ['park', 'han'], '30대': [], '40대': [], '50대': ['jang'], 'other': ['jang']}\n"
     ]
    }
   ],
   "source": [
    "\n",
    "for i in data:\n",
    "    print(i)\n",
    "    if i['age'] >= 40:\n",
    "        A['other'].append(i['name'])\n",
    "    A[str((i['age']//10)*10)+'대'].append(i['name'])\n",
    "print(A)\n",
    "        "
   ]
  },
  {
   "cell_type": "code",
   "execution_count": 104,
   "metadata": {},
   "outputs": [
    {
     "name": "stdout",
     "output_type": "stream",
     "text": [
      "[{'name': 'park', 'age': 22}, {'name': 'han', 'age': 21}, {'name': 'jang', 'age': 51}]\n"
     ]
    }
   ],
   "source": [
    "data=[    \n",
    "    {'name':'hong','age':11}\n",
    "    ,{'name':'park','age':22}\n",
    "    ,{'name':'han','age':21}\n",
    "    ,{'name':'hong','age':5}\n",
    "    ,{'name':'jang','age':51}\n",
    "]\n",
    "\n",
    "lst = [i for i in data if i['age']>20]\n",
    "print(lst)\n",
    "    #print(i['age'])\n",
    "\n",
    "# result = map(lambda x: 'ok 'if i['age']>20 else 'no', for i in data:)\n",
    "# for j in result:\n",
    "#     print(j)\n",
    "    \n",
    "    \n",
    "    \n"
   ]
  },
  {
   "cell_type": "code",
   "execution_count": 60,
   "metadata": {},
   "outputs": [
    {
     "name": "stdout",
     "output_type": "stream",
     "text": [
      "(50, 'pass')(40, 'fail')(100, 'pass')(20, 'fail')(70, 'pass')(90, 'pass')(30, 'fail')"
     ]
    }
   ],
   "source": [
    "#50점 이상은 pass 밑은 fail 로 묶어서 출력하기\n",
    "jumsu = [50,40,100,20,70,90,30]\n",
    "\n",
    "k = map(lambda x:'pass' if x>=50 else 'fail', jumsu)\n",
    "\n",
    "for i in zip(jumsu, k):\n",
    "    print(i, end='')\n",
    "    "
   ]
  },
  {
   "cell_type": "code",
   "execution_count": 3,
   "metadata": {},
   "outputs": [
    {
     "name": "stdout",
     "output_type": "stream",
     "text": [
      "[('0대', ['hong', 'ang']), ('10대', ['hong']), ('20대', ['park', 'han']), ('30대', ['kang']), ('40대', ['jang'])]\n"
     ]
    }
   ],
   "source": [
    "#과제) 10대 20대 30대 ... 를 defaultdict 로 만들어보기\n",
    "from collections import defaultdict\n",
    "data=[    \n",
    "    {'name':'hong','age':11}\n",
    "    ,{'name':'park','age':22}\n",
    "    ,{'name':'han','age':21}\n",
    "    ,{'name':'hong','age':5}\n",
    "    ,{'name':'jang','age':47}\n",
    "    ,{'name':'kang','age':33}\n",
    "    ,{'name':'ang','age':5}\n",
    "]\n",
    "\n",
    "lst = defaultdict(list) \n",
    "for i in data:\n",
    "    lst[str(i['age']//10*10)+ '대'].append(i['name'])\n",
    "lst1 = sorted(lst.items())\n",
    "print(lst1)    \n",
    "    \n",
    "        \n"
   ]
  },
  {
   "cell_type": "code",
   "execution_count": 12,
   "metadata": {},
   "outputs": [
    {
     "name": "stdout",
     "output_type": "stream",
     "text": [
      "[('0대', ['pong', 'ang']), ('10대', ['hong']), ('20대', ['park', 'han']), ('30대', ['kang']), ('40대', ['jang'])]\n"
     ]
    }
   ],
   "source": [
    "#defaultdick 복습\n",
    "from collections import defaultdict\n",
    "data=[    \n",
    "    {'name':'hong','age':11}\n",
    "    ,{'name':'park','age':22}\n",
    "    ,{'name':'han','age':21}\n",
    "    ,{'name':'pong','age':5}\n",
    "    ,{'name':'jang','age':47}\n",
    "    ,{'name':'kang','age':33}\n",
    "    ,{'name':'ang','age':5}\n",
    "]\n",
    "\n",
    "dic = defaultdict(list) #리스트형태가 만들어짐\n",
    "\n",
    "for i in data:\n",
    "    dic[str(i['age']//10*10)+'대'].append(i['name'])\n",
    "dic = sorted(dic.items())\n",
    "print(dic)\n",
    "    "
   ]
  },
  {
   "cell_type": "code",
   "execution_count": 56,
   "metadata": {},
   "outputs": [
    {
     "name": "stdout",
     "output_type": "stream",
     "text": [
      "defaultdict(<class 'list'>, {'a1': 93, 'a2': 30, 'a3': 8, 'a4': 10})\n"
     ]
    }
   ],
   "source": [
    "# 중복을 없애서 합값 출력해보기\n",
    "from collections import defaultdict\n",
    "items = [{\"a1\":40,\"a2\":30},{\"a1\":50,\"a3\":3, \"a4\":10},{\"a1\":3,\"a3\":5}]\n",
    "dic = defaultdict(list)\n",
    "\n",
    "for i in items:\n",
    "    for j in i:\n",
    "        if j not in dic:\n",
    "            dic[j]= i[j]                     \n",
    "        else:\n",
    "            dic[j]+=i[j]\n",
    "        \n",
    "print(dic)\n",
    "        \n",
    "        \n"
   ]
  },
  {
   "cell_type": "code",
   "execution_count": 63,
   "metadata": {},
   "outputs": [
    {
     "name": "stdout",
     "output_type": "stream",
     "text": [
      "defaultdict(<class 'list'>, {'a1': [40, 50, 3], 'a2': [30], 'a3': [3, 5], 'a4': [10]})\n"
     ]
    }
   ],
   "source": [
    "#중복을 없애고 각 키의 대한 데이터값 만들기\n",
    "from collections import defaultdict\n",
    "items = [{\"a1\":40,\"a2\":30},{\"a1\":50,\"a3\":3, \"a4\":10},{\"a1\":3,\"a3\":5}]\n",
    "dic1 = defaultdict(list)\n",
    "\n",
    "for i in items:\n",
    "    for j in i:\n",
    "        #print(j)\n",
    "        if j not in dic1:\n",
    "            dic1[j].append(i[j])\n",
    "        else:\n",
    "            dic1[j].append(i[j])\n",
    "print(dic1)\n",
    "\n"
   ]
  },
  {
   "cell_type": "code",
   "execution_count": 68,
   "metadata": {},
   "outputs": [
    {
     "name": "stdout",
     "output_type": "stream",
     "text": [
      "가격이 3000원 이상인 목록: ['사과', '복숭아']\n",
      "가격이 3000원 미만인 목록: ['딸기', '바나나']\n"
     ]
    }
   ],
   "source": [
    "#값이 3000 이상 인 리스트와 그 미만인 리스트로 나누어 출력해보기 \n",
    "\n",
    "fruit_price={\"사과\":3000, \"딸기\":1000, \"바나나\":2500,\"복숭아\":40000}\n",
    "a= []\n",
    "b= []\n",
    "\n",
    "for i in fruit_price:\n",
    "    if fruit_price[i] >= 3000:\n",
    "        a.append(i)\n",
    "    else:\n",
    "        b.append(i)\n",
    "print(\"가격이 3000원 이상인 목록: {0}\".format(a))\n",
    "print(\"가격이 3000원 미만인 목록: {0}\".format(b))\n"
   ]
  },
  {
   "cell_type": "code",
   "execution_count": 86,
   "metadata": {},
   "outputs": [
    {
     "name": "stdout",
     "output_type": "stream",
     "text": [
      "{'딸기': 3, '포도': 2, '복숭아': 1, '사과': 1, '배': 1, '바나나': 1}\n"
     ]
    }
   ],
   "source": [
    "#각 과일의 중복된 값을 출력해보시오\n",
    "\n",
    "a=\"딸기 포도 복숭아 딸기 사과 배 포도 딸기 바나나\"\n",
    "lst = a.split()\n",
    "b={}\n",
    "\n",
    "\n",
    "for i in lst:    \n",
    "    if i not in b: # lst가 아니라 새로 만들어진 b에 대해서 조거문을 달아야함\n",
    "        b[i] = 1\n",
    "    else:\n",
    "        b[i] += 1\n",
    "print(b)\n",
    "        "
   ]
  },
  {
   "cell_type": "code",
   "execution_count": null,
   "metadata": {},
   "outputs": [],
   "source": []
  }
 ],
 "metadata": {
  "kernelspec": {
   "display_name": "Python 3",
   "language": "python",
   "name": "python3"
  },
  "language_info": {
   "codemirror_mode": {
    "name": "ipython",
    "version": 3
   },
   "file_extension": ".py",
   "mimetype": "text/x-python",
   "name": "python",
   "nbconvert_exporter": "python",
   "pygments_lexer": "ipython3",
   "version": "3.8.5"
  }
 },
 "nbformat": 4,
 "nbformat_minor": 4
}
