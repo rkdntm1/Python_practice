{
 "cells": [
  {
   "cell_type": "code",
   "execution_count": 29,
   "metadata": {},
   "outputs": [],
   "source": [
    "#0대 10대 ... 별로 나눠서 출력하기\n",
    "data=[    \n",
    "    {'name':'hong','age':11}\n",
    "    ,{'name':'park','age':22}\n",
    "    ,{'name':'han','age':21}\n",
    "    ,{'name':'kong','age':5}\n",
    "    ,{'name':'jang','age':51}\n",
    "]    "
   ]
  },
  {
   "cell_type": "code",
   "execution_count": 30,
   "metadata": {},
   "outputs": [
    {
     "name": "stdout",
     "output_type": "stream",
     "text": [
      "{'0대': ['kong'], '10대': ['hong'], '20대': ['park', 'han'], '30대': [], '40대': [], 'other': ['jang']}\n"
     ]
    }
   ],
   "source": [
    "#0대 10 대 라는 리스트 만들기(50대 이상은 other로 리스트 모으기)\n",
    "info = {}\n",
    "for index in range(0, 100, 10):\n",
    "    if index >=50: #50대 이상인 경우 other 로 리스트 생성\n",
    "        info['other'] = []\n",
    "    else: # 그 외의 경우 0대 10대 ... 로 리스트 생성\n",
    "        info[str(index)+'대'] = []\n",
    "       \n",
    "#age값 출력나누기\n",
    "for i in data: \n",
    "    if i['age'] < 50: # if 문 줘서 출력 안하면 50대 리스트가 없는 상태라 키 에러 발생함.\n",
    "        info[str((i['age']//10)*10)+'대'].append(i['name'])\n",
    "    else:\n",
    "        info['other'].append(i['name'])\n",
    "print(info)"
   ]
  },
  {
   "cell_type": "code",
   "execution_count": 27,
   "metadata": {},
   "outputs": [
    {
     "name": "stdout",
     "output_type": "stream",
     "text": [
      "{'0대': [], '10대': [], '20대': [], '30대': [], '40대': [], '50대': [], 'other': []}\n"
     ]
    }
   ],
   "source": [
    "A= {}\n",
    "for index in range(0,70,10): # 세대 나누기 \n",
    "    if index > 50:\n",
    "        A['other']=[] # other 라는 특정 리스트 선언\n",
    "    else:\n",
    "        A[str(index)+'대']=[]\n",
    "print(A)"
   ]
  },
  {
   "cell_type": "code",
   "execution_count": 28,
   "metadata": {},
   "outputs": [
    {
     "name": "stdout",
     "output_type": "stream",
     "text": [
      "{'name': 'hong', 'age': 11}\n",
      "{'name': 'park', 'age': 22}\n",
      "{'name': 'han', 'age': 21}\n",
      "{'name': 'hong', 'age': 5}\n",
      "{'name': 'jang', 'age': 51}\n",
      "{'0대': ['hong'], '10대': ['hong'], '20대': ['park', 'han'], '30대': [], '40대': [], '50대': ['jang'], 'other': ['jang']}\n"
     ]
    }
   ],
   "source": [
    "\n",
    "for i in data:\n",
    "    print(i)\n",
    "    if i['age'] >= 40:\n",
    "        A['other'].append(i['name'])\n",
    "    A[str((i['age']//10)*10)+'대'].append(i['name'])\n",
    "print(A)\n",
    "        "
   ]
  },
  {
   "cell_type": "code",
   "execution_count": 1,
   "metadata": {},
   "outputs": [
    {
     "ename": "ModuleNotFoundError",
     "evalue": "No module named 'Sample'",
     "output_type": "error",
     "traceback": [
      "\u001b[1;31m---------------------------------------------------------------------------\u001b[0m",
      "\u001b[1;31mModuleNotFoundError\u001b[0m                       Traceback (most recent call last)",
      "\u001b[1;32m<ipython-input-1-dda09474d251>\u001b[0m in \u001b[0;36m<module>\u001b[1;34m\u001b[0m\n\u001b[1;32m----> 1\u001b[1;33m \u001b[1;32mimport\u001b[0m \u001b[0mSample\u001b[0m\u001b[1;33m\u001b[0m\u001b[1;33m\u001b[0m\u001b[0m\n\u001b[0m",
      "\u001b[1;31mModuleNotFoundError\u001b[0m: No module named 'Sample'"
     ]
    }
   ],
   "source": [
    "import "
   ]
  },
  {
   "cell_type": "code",
   "execution_count": 5,
   "metadata": {},
   "outputs": [
    {
     "name": "stdout",
     "output_type": "stream",
     "text": [
      "<map object at 0x000001E39FFBD6D0>\n"
     ]
    }
   ],
   "source": [
    "data=[    \n",
    "    {'name':'hong','age':11}\n",
    "    ,{'name':'park','age':22}\n",
    "    ,{'name':'han','age':21}\n",
    "    ,{'name':'hong','age':5}\n",
    "    ,{'name':'jang','age':51}\n",
    "]\n",
    "\n",
    "for i in data:\n",
    "    result = map(lambda x: ok if i['age']>10 else no, i)\n",
    ")\n"
   ]
  },
  {
   "cell_type": "code",
   "execution_count": 6,
   "metadata": {},
   "outputs": [
    {
     "name": "stdout",
     "output_type": "stream",
     "text": [
      "park,han,jang\n"
     ]
    }
   ],
   "source": [
    "#데이터가 주어졌습니다. age 가 20 이상인 name 값을 추출하는 결과값을 내시오\n",
    "data=[    \n",
    "    {'name':'hong','age':11}\n",
    "    ,{'name':'park','age':22}\n",
    "    ,{'name':'han','age':21}\n",
    "    ,{'name':'hong','age':5}\n",
    "    ,{'name':'jang','age':51}\n",
    "]\n",
    "result = [index['name'] for index in data if index['age']>=20]\n",
    "print(','.join(result))"
   ]
  },
  {
   "cell_type": "code",
   "execution_count": 9,
   "metadata": {},
   "outputs": [
    {
     "name": "stdout",
     "output_type": "stream",
     "text": [
      "['hong', 'Hong2', 'HONG3']\n"
     ]
    }
   ],
   "source": [
    "#첫글자가 h로 시작하는 자료를 list에 넣어 출력\n",
    "data = ['hong', 'Kim1','Lee1','Hong2','park1','Park2','Kang1','kang2','HONG3']\n",
    "\n",
    "result = [item for item in data if item[0].upper() == 'H' ]\n",
    "print(result)"
   ]
  },
  {
   "cell_type": "code",
   "execution_count": 13,
   "metadata": {
    "scrolled": true
   },
   "outputs": [
    {
     "name": "stdout",
     "output_type": "stream",
     "text": [
      "[{'name': 'hong1', 'age': 20}, {'name': 'Hong2', 'age': 5}, {'name': 'park2', 'age': 23}, {'name': 'kim2', 'age': 22}]\n",
      "hong1, Hong2, park2, kim2\n"
     ]
    }
   ],
   "source": [
    "#Q2)0~25 살 자료를 출력\n",
    "data2 =[\n",
    "    {'name':'hong1','age':20}\n",
    "    ,{'name':'ha2','age':30}\n",
    "    ,{'name':'Park1','age':29}\n",
    "    ,{'name':'Hong2','age':5}\n",
    "    ,{'name':'park2','age':23}\n",
    "    ,{'name':'kim2','age':22}\n",
    "    ,{'name':'kang2','age':51}\n",
    "]\n",
    "result = [i for i in data2 if i['age'] >=0 and i['age']<=25]  #0~25살 인 데이터 추 출\n",
    "result2 = [i['name'] for i in data2 if i['age'] >=0 and i['age']<=25] #0~25살 데이터중 이름 값만 추출\n",
    "print(result)\n",
    "print(', '.join(result2))"
   ]
  }
 ],
 "metadata": {
  "kernelspec": {
   "display_name": "Python 3",
   "language": "python",
   "name": "python3"
  },
  "language_info": {
   "codemirror_mode": {
    "name": "ipython",
    "version": 3
   },
   "file_extension": ".py",
   "mimetype": "text/x-python",
   "name": "python",
   "nbconvert_exporter": "python",
   "pygments_lexer": "ipython3",
   "version": "3.8.5"
  }
 },
 "nbformat": 4,
 "nbformat_minor": 4
}
